{
  "nbformat": 4,
  "nbformat_minor": 0,
  "metadata": {
    "colab": {
      "name": "U2L3L4 Exercise.ipynb",
      "provenance": []
    },
    "kernelspec": {
      "name": "python3",
      "display_name": "Python 3"
    }
  },
  "cells": [
    {
      "cell_type": "code",
      "metadata": {
        "colab": {
          "base_uri": "https://localhost:8080/"
        },
        "id": "18fOr7g7C6Cs",
        "outputId": "c0dff700-70dc-4692-dea9-d98d84c2f347"
      },
      "source": [
        "#U2L3 Working with Lists\n",
        "\n",
        "tvshows = ['Chilling Adventures of Sabrina', 'Alice in Borderland', 'The 100', 'The Boys', 'Enola Holmes']\n",
        "print(tvshows)\n",
        "\n",
        "print(sorted(tvshows))\n",
        "\n",
        "print(tvshows)\n",
        "\n",
        "tvshows.sort(reverse = True)\n",
        "print(tvshows)\n",
        "\n",
        "print(\"I have \" + str(len(tvshows)) + \" favorite tv shows!\")"
      ],
      "execution_count": null,
      "outputs": [
        {
          "output_type": "stream",
          "text": [
            "['Chilling Adventures of Sabrina', 'Alice in Borderland', 'The 100', 'The Boys', 'Enola Holmes']\n",
            "['Alice in Borderland', 'Chilling Adventures of Sabrina', 'Enola Holmes', 'The 100', 'The Boys']\n",
            "['Chilling Adventures of Sabrina', 'Alice in Borderland', 'The 100', 'The Boys', 'Enola Holmes']\n",
            "['The Boys', 'The 100', 'Enola Holmes', 'Chilling Adventures of Sabrina', 'Alice in Borderland']\n",
            "I have 5 favorite tv shows!\n"
          ],
          "name": "stdout"
        }
      ]
    },
    {
      "cell_type": "code",
      "metadata": {
        "colab": {
          "base_uri": "https://localhost:8080/"
        },
        "id": "GYBb_IqVIbdB",
        "outputId": "e75dbde8-c786-4043-a9f5-ee8b1cd9c3de"
      },
      "source": [
        "#U2L4 Looping\n",
        "\n",
        "list1 = ['b', 'r', 'u', 'n', 'i']\n",
        "print(list1)\n",
        "\n",
        "for letters in list1:\n",
        "  print(letters + \" is the next letter\")\n",
        "\n",
        "numbers = (range(1, 21))\n",
        "\n",
        "for even in numbers:\n",
        "  if even % 2 == 0:\n",
        "    print(even, end = \" \")\n",
        "print()\n",
        "\n",
        "list1.sort()\n",
        "print(list1)\n"
      ],
      "execution_count": null,
      "outputs": [
        {
          "output_type": "stream",
          "text": [
            "['b', 'r', 'u', 'n', 'i']\n",
            "b is the next letter\n",
            "r is the next letter\n",
            "u is the next letter\n",
            "n is the next letter\n",
            "i is the next letter\n",
            "2 4 6 8 10 12 14 16 18 20 \n",
            "['b', 'i', 'n', 'r', 'u']\n",
            "['b', 'i', 'n']\n"
          ],
          "name": "stdout"
        }
      ]
    },
    {
      "cell_type": "code",
      "metadata": {
        "colab": {
          "base_uri": "https://localhost:8080/"
        },
        "id": "KHk8CKRuMklc",
        "outputId": "fbf75e1a-0e5c-415a-db53-3d36ed292b6c"
      },
      "source": [
        "list1 = ['b', 'r', 'u', 'n', 'i']\n",
        "print(list1)\n",
        "print(list1[:3])\n",
        "\n",
        "for elements in list1:\n",
        "  print(elements)\n",
        "print()\n",
        "\n",
        "print(list1[-2:])"
      ],
      "execution_count": 56,
      "outputs": [
        {
          "output_type": "stream",
          "text": [
            "['b', 'r', 'u', 'n', 'i']\n",
            "['b', 'r', 'u']\n",
            "b\n",
            "r\n",
            "u\n",
            "n\n",
            "i\n",
            "\n",
            "['n', 'i']\n"
          ],
          "name": "stdout"
        }
      ]
    }
  ]
}