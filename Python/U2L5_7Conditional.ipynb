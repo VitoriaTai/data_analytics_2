{
  "nbformat": 4,
  "nbformat_minor": 0,
  "metadata": {
    "colab": {
      "name": "U2L5-7Conditional.ipynb",
      "provenance": []
    },
    "kernelspec": {
      "name": "python3",
      "display_name": "Python 3"
    }
  },
  "cells": [
    {
      "cell_type": "code",
      "metadata": {
        "colab": {
          "base_uri": "https://localhost:8080/"
        },
        "id": "8PBz6vX3dDgk",
        "outputId": "3ef0626e-65b2-40c1-bc19-b14c41119107"
      },
      "source": [
        "#Case Sensitive \n",
        "\n",
        "ice = \"cold\"\n",
        "ice == \"Cold\"\n",
        "print(ice.lower()) \n",
        "print(ice.upper())"
      ],
      "execution_count": 12,
      "outputs": [
        {
          "output_type": "stream",
          "text": [
            "cold\n",
            "COLD\n"
          ],
          "name": "stdout"
        }
      ]
    },
    {
      "cell_type": "code",
      "metadata": {
        "colab": {
          "base_uri": "https://localhost:8080/"
        },
        "id": "1lRfGejlWJK3",
        "outputId": "017fdd73-8e24-4af6-d990-dab2101d3a08"
      },
      "source": [
        "#If statement activity \n",
        "\n",
        "person = 25 \n",
        "if person > 2: \n",
        "  print(\"You are old enough\")\n",
        "elif person < 2:\n",
        "  print(\"You are a baby\")\n",
        "else: \n",
        "  print(\"They are not of age!\")"
      ],
      "execution_count": 5,
      "outputs": [
        {
          "output_type": "stream",
          "text": [
            "You are old enough\n"
          ],
          "name": "stdout"
        }
      ]
    },
    {
      "cell_type": "code",
      "metadata": {
        "colab": {
          "base_uri": "https://localhost:8080/"
        },
        "id": "yrg8aTTOdB3E",
        "outputId": "f4fa4263-e203-48b3-c006-9515b0572b65"
      },
      "source": [
        "grocery_list = ['scallions', 'eggs', 'veggies', 'water', 'milk']\n",
        "if 'eggs' in grocery_list:\n",
        "  print('yes')\n",
        "if 'scallions' in grocery_list:\n",
        "  print('yes')\n",
        "if 'flour' in grocery_list:\n",
        "  print('yes')\n",
        "if 'veggies' in grocery_list:\n",
        "  print('yes')\n",
        "if 'meat' in grocery_list:\n",
        "  print('yes')\n"
      ],
      "execution_count": 9,
      "outputs": [
        {
          "output_type": "stream",
          "text": [
            "yes\n",
            "yes\n",
            "yes\n"
          ],
          "name": "stdout"
        }
      ]
    },
    {
      "cell_type": "code",
      "metadata": {
        "colab": {
          "base_uri": "https://localhost:8080/"
        },
        "id": "uoUoKBxZe0bd",
        "outputId": "a87fa56b-ef43-48d0-ba90-a1d497ff4046"
      },
      "source": [
        "#Dictionary Activity \n",
        "\n",
        "person = {\n",
        "    'first_name' : 'Anton Christopher',\n",
        "    'Last_name' : 'Uri',\n",
        "    'age' : '25',\n",
        "    'state' : 'New Jersey',\n",
        "    'pet' : 'Udon the Lizard'\n",
        "}\n",
        "for key,value in person.items():\n",
        "  print(key + \" : \" +value)\n",
        "print()\n",
        "\n",
        "people = {\n",
        "    'Jonathan' : '23',\n",
        "    'Kellie' : '21',\n",
        "    'Elly' : '21',\n",
        "    'Hao' : '22',\n",
        "    'Chen' : '24'\n",
        "}\n",
        "for key,value in people.items():\n",
        "  print(key + ' ' + value)\n",
        "print()\n",
        "\n",
        "vocab = {\n",
        "    'list' : 'ordered and changeable. allowed duplicates',\n",
        "    'dictionary' : 'unordered and changeable. no duplicates',\n",
        "    'tuple' : 'ordered and unchangeable. allows duplicates'\n",
        "}\n",
        "print('definition: \\n')\n",
        "for key,value in vocab.items():\n",
        "  print(key + ': ' + value)\n"
      ],
      "execution_count": 32,
      "outputs": [
        {
          "output_type": "stream",
          "text": [
            "first_name : Anton Christopher\n",
            "Last_name : Uri\n",
            "age : 25\n",
            "state : New Jersey\n",
            "pet : Udon the Lizard\n",
            "\n",
            "Jonathan 23\n",
            "Kellie 21\n",
            "Elly 21\n",
            "Hao 22\n",
            "Chen 24\n",
            "\n",
            "definition: \n",
            "\n",
            "list: ordered and changeable. allowed duplicates\n",
            "dictionary: unordered and changeable. no duplicates\n",
            "tuple: ordered and unchangeable. allows duplicates\n"
          ],
          "name": "stdout"
        }
      ]
    },
    {
      "cell_type": "code",
      "metadata": {
        "colab": {
          "base_uri": "https://localhost:8080/"
        },
        "id": "vSRsfRnrtml1",
        "outputId": "aa5b5f93-57ab-44d5-9a38-1ac2a03168d0"
      },
      "source": [
        "#input activity\n",
        "message = input(\"Hey, how are you? \")\n",
        "print(message)\n"
      ],
      "execution_count": 36,
      "outputs": [
        {
          "output_type": "stream",
          "text": [
            "Hey, how are you? good\n",
            "good\n"
          ],
          "name": "stdout"
        }
      ]
    },
    {
      "cell_type": "code",
      "metadata": {
        "colab": {
          "base_uri": "https://localhost:8080/"
        },
        "id": "T2iDZcqP00ab",
        "outputId": "17eeaf87-1ad4-4579-90fb-030194ff7176"
      },
      "source": [
        "#Lesson 5 if elif else statement \n",
        "\n",
        "people = ['Maxx', 'Benjamin', 'Iris', 'Daniel', 'Udon']\n",
        "\n",
        "for person in people:\n",
        "  if 'Udon' in person:\n",
        "    print('Welcome back Mr. ' + person)\n",
        "  if person != 'Udon':\n",
        "    print('Welcome ' + person)\n",
        "\n"
      ],
      "execution_count": 40,
      "outputs": [
        {
          "output_type": "stream",
          "text": [
            "Welcome Maxx\n",
            "Welcome Benjamin\n",
            "Welcome Iris\n",
            "Welcome Daniel\n",
            "Welcome back Mr. Udon\n"
          ],
          "name": "stdout"
        }
      ]
    },
    {
      "cell_type": "code",
      "metadata": {
        "colab": {
          "base_uri": "https://localhost:8080/"
        },
        "id": "q5zYO8ZH20th",
        "outputId": "fa84bacf-fb36-48bc-b98a-67f148ba0a2d"
      },
      "source": [
        "for num in list(range(1, 11)):\n",
        "  if num == 1:\n",
        "    print(str(num) + 'st')\n",
        "  if num == 2:\n",
        "    print(str(num) + 'nd')\n",
        "  elif num == 3:\n",
        "    print(str(num) + 'rd')\n",
        "  else:\n",
        "    print(str(num) + \"th\")\n"
      ],
      "execution_count": 80,
      "outputs": [
        {
          "output_type": "stream",
          "text": [
            "1st\n",
            "1th\n",
            "2nd\n",
            "3rd\n",
            "4th\n",
            "5th\n",
            "6th\n",
            "7th\n",
            "8th\n",
            "9th\n",
            "10th\n"
          ],
          "name": "stdout"
        }
      ]
    },
    {
      "cell_type": "code",
      "metadata": {
        "colab": {
          "base_uri": "https://localhost:8080/"
        },
        "id": "lA8HLMeF6Chg",
        "outputId": "f73272f7-434f-4d49-bca2-fbccd76233fc"
      },
      "source": [
        "#Lesson 6 Dictionaries \n",
        "\n",
        "variables = {\n",
        "    'firstName' : 'Vitoria',\n",
        "    'lastName' : 'Tai'\n",
        "}\n",
        "\n",
        "print(variables)\n",
        "print(\"Hello, \" + variables['firstName'], variables['lastName'])"
      ],
      "execution_count": 75,
      "outputs": [
        {
          "output_type": "stream",
          "text": [
            "{'firstName': 'Vitoria', 'lastName': 'Tai'}\n",
            "Hello, Vitoria Tai\n"
          ],
          "name": "stdout"
        }
      ]
    },
    {
      "cell_type": "code",
      "metadata": {
        "colab": {
          "base_uri": "https://localhost:8080/"
        },
        "id": "w5G9URQJ7Q4c",
        "outputId": "eb46b0fd-b75a-4b00-f863-09522a5ed852"
      },
      "source": [
        "dictionary = {\n",
        "    'morning' : 'sun',\n",
        "    'night' : 'moon'\n",
        "}\n",
        "for key,value in dictionary.items():\n",
        "  print(key + ':' + value)"
      ],
      "execution_count": 76,
      "outputs": [
        {
          "output_type": "stream",
          "text": [
            "morning:sun\n",
            "night:moon\n"
          ],
          "name": "stdout"
        }
      ]
    },
    {
      "cell_type": "code",
      "metadata": {
        "colab": {
          "base_uri": "https://localhost:8080/"
        },
        "id": "35eGFS8IKZ6J",
        "outputId": "945fe98c-42d9-4faf-b885-329cbcc9f5b1"
      },
      "source": [
        "nesteddictionary = {\n",
        "    'favoritePet' : {'dog', 'cat', 'fish', 'duck'},\n",
        "    'favoriteColor' : {'blue', 'pink', 'yellow', 'orange'},\n",
        "    'favoriteFood' : {'potato', 'tomato', 'mushroom', 'lime'}\n",
        "}\n",
        "for key, value in nesteddictionary.items():\n",
        "  print(\"Dictionary list: \" + key)\n",
        "\n",
        "  for item in value:\n",
        "    print(item + ' : ' + 'its somthing i like')"
      ],
      "execution_count": 113,
      "outputs": [
        {
          "output_type": "stream",
          "text": [
            "Dictionary list: favoritePet\n",
            "dog : its somthing i like\n",
            "cat : its somthing i like\n",
            "fish : its somthing i like\n",
            "duck : its somthing i like\n",
            "Dictionary list: favoriteColor\n",
            "blue : its somthing i like\n",
            "yellow : its somthing i like\n",
            "pink : its somthing i like\n",
            "orange : its somthing i like\n",
            "Dictionary list: favoriteFood\n",
            "mushroom : its somthing i like\n",
            "tomato : its somthing i like\n",
            "potato : its somthing i like\n",
            "lime : its somthing i like\n"
          ],
          "name": "stdout"
        }
      ]
    },
    {
      "cell_type": "code",
      "metadata": {
        "colab": {
          "base_uri": "https://localhost:8080/"
        },
        "id": "a77XED-pMl0E",
        "outputId": "9dc61cc3-6eaf-477b-d708-57c9aaf4da40"
      },
      "source": [
        "# lesson 7 function activity\n",
        "\n",
        "def myFunction(age):\n",
        "  message = \"I am {} years old\"\n",
        "  print(message.format(age))\n",
        "myFunction(22)"
      ],
      "execution_count": 90,
      "outputs": [
        {
          "output_type": "stream",
          "text": [
            "I am 22 years old\n"
          ],
          "name": "stdout"
        }
      ]
    },
    {
      "cell_type": "code",
      "metadata": {
        "colab": {
          "base_uri": "https://localhost:8080/"
        },
        "id": "MW-MBy5oP9fe",
        "outputId": "f5083de1-32f1-490d-eef5-2b293014b369"
      },
      "source": [
        "def param(city, country):\n",
        "  print(city + \" \" + country)\n",
        "  #print(city)\n",
        "\n",
        "param(city = 'NYC', country = 'USA')\n",
        "param(city = 'Rio', country = 'Brazil')\n",
        "param(city = 'Beijing', country = 'China')"
      ],
      "execution_count": 106,
      "outputs": [
        {
          "output_type": "stream",
          "text": [
            "NYC USA\n",
            "NYC\n",
            "Rio Brazil\n",
            "Rio\n",
            "Beijing China\n",
            "Beijing\n"
          ],
          "name": "stdout"
        }
      ]
    }
  ]
}