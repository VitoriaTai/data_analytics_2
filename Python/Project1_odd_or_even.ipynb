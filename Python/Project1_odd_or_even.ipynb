{
  "nbformat": 4,
  "nbformat_minor": 0,
  "metadata": {
    "colab": {
      "name": "Project1 - odd or even.ipynb",
      "provenance": []
    },
    "kernelspec": {
      "name": "python3",
      "display_name": "Python 3"
    }
  },
  "cells": [
    {
      "cell_type": "code",
      "metadata": {
        "id": "1iC1kUgGVJ1g",
        "colab": {
          "base_uri": "https://localhost:8080/"
        },
        "outputId": "7fbfcb72-4200-4a11-dc89-82840dd6d288"
      },
      "source": [
        "#Vitoria Tai \n",
        "#Project 1 - Mini Project \n",
        "#Python Project – Odd or Even\n",
        "\n",
        "#Ask the user for a number. \n",
        "#Depending on whether the number is even or odd, print out an appropriate message to the user. \n",
        "#Hint: how does an even / odd number react differently when divided by 2?\n",
        "\n",
        "\n",
        "userNumber = int(input(\"Enter a number: \"))\n",
        "if userNumber % 2 != 0:\n",
        "  print(str(userNumber) + \" is an odd number\")\n",
        "else:\n",
        "  print(str(userNumber) + \" is an even number\")"
      ],
      "execution_count": 17,
      "outputs": [
        {
          "output_type": "stream",
          "text": [
            "input a number: 35\n",
            "35 is an odd number\n"
          ],
          "name": "stdout"
        }
      ]
    },
    {
      "cell_type": "code",
      "metadata": {
        "colab": {
          "base_uri": "https://localhost:8080/"
        },
        "id": "gQe0YQyUYcCa",
        "outputId": "357a3db3-b6af-49d9-b17d-af11161ae507"
      },
      "source": [
        "#Bonus:\n",
        "#If the number is a multiple of 4, print out a different message.\n",
        "#Ask the user for two numbers: one number to check (call it num) and one number to divide by (check). \n",
        "#If check divides evenly into num, tell that to the user. If not, print a different appropriate message.\n",
        "\n",
        "userNumber = int(input(\"Enter a number: \"))\n",
        "if userNumber % 4 == 0:\n",
        "  print(str(userNumber) + \" is divisible by 4\")\n",
        "else:\n",
        "  print(str(userNumber) + \" is not divisible by 4\")\n",
        "print()\n",
        "\n",
        "num = int(input(\"Enter a number: \"))\n",
        "check = int(input(\"Enter another number: \"))\n",
        "print(\"num%check = \" + str(num%check))\n",
        "if num % check == 0:\n",
        "  print(\"The value is divisible by one another\")\n",
        "else: \n",
        "  print(\"The value is not divisible by one another\")"
      ],
      "execution_count": 29,
      "outputs": [
        {
          "output_type": "stream",
          "text": [
            "Enter a number: 77\n",
            "77 is not divisible by 4\n",
            "\n",
            "Enter a number: 7\n",
            "Enter another number: 7\n",
            "num%check = 0\n",
            "The value is divisible by one another\n"
          ],
          "name": "stdout"
        }
      ]
    }
  ]
}