{
  "nbformat": 4,
  "nbformat_minor": 0,
  "metadata": {
    "colab": {
      "name": "MiniProject_ML_KNN.ipynb",
      "provenance": [],
      "collapsed_sections": []
    },
    "kernelspec": {
      "name": "python3",
      "display_name": "Python 3"
    }
  },
  "cells": [
    {
      "cell_type": "markdown",
      "metadata": {
        "id": "oMLkuH-NTqSc"
      },
      "source": [
        "Name: Vitoria Tai"
      ]
    },
    {
      "cell_type": "markdown",
      "metadata": {
        "id": "3cisB3_9xcLl"
      },
      "source": [
        "# KNN classifier"
      ]
    },
    {
      "cell_type": "markdown",
      "metadata": {
        "id": "u3k204il9-Aq"
      },
      "source": [
        "### Suppose we’ve been given a classified data set from a company! They’ve hidden the feature column names but have given you the data and the target classes. We’ll try to use KNN to create a model that directly predicts a class for a new data point based off of the features. Let’s grab it and use it."
      ]
    },
    {
      "cell_type": "markdown",
      "metadata": {
        "id": "LB9ZxEBExihH"
      },
      "source": [
        "# Tasks:\r\n",
        "\r\n",
        "\r\n",
        "\r\n",
        "1.   Every step must have an explanation\r\n",
        "2.   Every plot/ chart must have an iterpretation\r\n",
        "3.   Add your observations for each section\r\n",
        "4.   Draw clear conclusions (at least 5 conclusions)"
      ]
    },
    {
      "cell_type": "code",
      "metadata": {
        "id": "mfDQuZMXxSIm"
      },
      "source": [
        "#importing pandas because we are dealing with data frames \n",
        "import pandas as pd"
      ],
      "execution_count": 414,
      "outputs": []
    },
    {
      "cell_type": "code",
      "metadata": {
        "id": "2VctUvQHxYnp"
      },
      "source": [
        "#import seaborn and matplotlib for graphing heap maps and plots\r\n",
        "import seaborn as sns\r\n",
        "%matplotlib inline\r\n",
        "import matplotlib.pyplot as plt"
      ],
      "execution_count": 415,
      "outputs": []
    },
    {
      "cell_type": "code",
      "metadata": {
        "id": "xCPl7IkByASb"
      },
      "source": [
        "#read data set \n",
        "df = pd.read_csv('https://raw.githubusercontent.com/CunyLaguardiaDataAnalytics/datasets/master/Classified%20Data')"
      ],
      "execution_count": 416,
      "outputs": []
    },
    {
      "cell_type": "code",
      "metadata": {
        "colab": {
          "base_uri": "https://localhost:8080/",
          "height": 234
        },
        "id": "6HITHzn4yJqm",
        "outputId": "59958497-83ce-49e6-fe84-82043adbcc40"
      },
      "source": [
        "#displaying the first 5 elements of the data set \n",
        "df.head()"
      ],
      "execution_count": 417,
      "outputs": [
        {
          "output_type": "execute_result",
          "data": {
            "text/html": [
              "<div>\n",
              "<style scoped>\n",
              "    .dataframe tbody tr th:only-of-type {\n",
              "        vertical-align: middle;\n",
              "    }\n",
              "\n",
              "    .dataframe tbody tr th {\n",
              "        vertical-align: top;\n",
              "    }\n",
              "\n",
              "    .dataframe thead th {\n",
              "        text-align: right;\n",
              "    }\n",
              "</style>\n",
              "<table border=\"1\" class=\"dataframe\">\n",
              "  <thead>\n",
              "    <tr style=\"text-align: right;\">\n",
              "      <th></th>\n",
              "      <th>Unnamed: 0</th>\n",
              "      <th>WTT</th>\n",
              "      <th>PTI</th>\n",
              "      <th>EQW</th>\n",
              "      <th>SBI</th>\n",
              "      <th>LQE</th>\n",
              "      <th>QWG</th>\n",
              "      <th>FDJ</th>\n",
              "      <th>PJF</th>\n",
              "      <th>HQE</th>\n",
              "      <th>NXJ</th>\n",
              "      <th>TARGET CLASS</th>\n",
              "    </tr>\n",
              "  </thead>\n",
              "  <tbody>\n",
              "    <tr>\n",
              "      <th>0</th>\n",
              "      <td>0</td>\n",
              "      <td>0.913917</td>\n",
              "      <td>1.162073</td>\n",
              "      <td>0.567946</td>\n",
              "      <td>0.755464</td>\n",
              "      <td>0.780862</td>\n",
              "      <td>0.352608</td>\n",
              "      <td>0.759697</td>\n",
              "      <td>0.643798</td>\n",
              "      <td>0.879422</td>\n",
              "      <td>1.231409</td>\n",
              "      <td>1</td>\n",
              "    </tr>\n",
              "    <tr>\n",
              "      <th>1</th>\n",
              "      <td>1</td>\n",
              "      <td>0.635632</td>\n",
              "      <td>1.003722</td>\n",
              "      <td>0.535342</td>\n",
              "      <td>0.825645</td>\n",
              "      <td>0.924109</td>\n",
              "      <td>0.648450</td>\n",
              "      <td>0.675334</td>\n",
              "      <td>1.013546</td>\n",
              "      <td>0.621552</td>\n",
              "      <td>1.492702</td>\n",
              "      <td>0</td>\n",
              "    </tr>\n",
              "    <tr>\n",
              "      <th>2</th>\n",
              "      <td>2</td>\n",
              "      <td>0.721360</td>\n",
              "      <td>1.201493</td>\n",
              "      <td>0.921990</td>\n",
              "      <td>0.855595</td>\n",
              "      <td>1.526629</td>\n",
              "      <td>0.720781</td>\n",
              "      <td>1.626351</td>\n",
              "      <td>1.154483</td>\n",
              "      <td>0.957877</td>\n",
              "      <td>1.285597</td>\n",
              "      <td>0</td>\n",
              "    </tr>\n",
              "    <tr>\n",
              "      <th>3</th>\n",
              "      <td>3</td>\n",
              "      <td>1.234204</td>\n",
              "      <td>1.386726</td>\n",
              "      <td>0.653046</td>\n",
              "      <td>0.825624</td>\n",
              "      <td>1.142504</td>\n",
              "      <td>0.875128</td>\n",
              "      <td>1.409708</td>\n",
              "      <td>1.380003</td>\n",
              "      <td>1.522692</td>\n",
              "      <td>1.153093</td>\n",
              "      <td>1</td>\n",
              "    </tr>\n",
              "    <tr>\n",
              "      <th>4</th>\n",
              "      <td>4</td>\n",
              "      <td>1.279491</td>\n",
              "      <td>0.949750</td>\n",
              "      <td>0.627280</td>\n",
              "      <td>0.668976</td>\n",
              "      <td>1.232537</td>\n",
              "      <td>0.703727</td>\n",
              "      <td>1.115596</td>\n",
              "      <td>0.646691</td>\n",
              "      <td>1.463812</td>\n",
              "      <td>1.419167</td>\n",
              "      <td>1</td>\n",
              "    </tr>\n",
              "  </tbody>\n",
              "</table>\n",
              "</div>"
            ],
            "text/plain": [
              "   Unnamed: 0       WTT       PTI  ...       HQE       NXJ  TARGET CLASS\n",
              "0           0  0.913917  1.162073  ...  0.879422  1.231409             1\n",
              "1           1  0.635632  1.003722  ...  0.621552  1.492702             0\n",
              "2           2  0.721360  1.201493  ...  0.957877  1.285597             0\n",
              "3           3  1.234204  1.386726  ...  1.522692  1.153093             1\n",
              "4           4  1.279491  0.949750  ...  1.463812  1.419167             1\n",
              "\n",
              "[5 rows x 12 columns]"
            ]
          },
          "metadata": {
            "tags": []
          },
          "execution_count": 417
        }
      ]
    },
    {
      "cell_type": "code",
      "metadata": {
        "colab": {
          "base_uri": "https://localhost:8080/"
        },
        "id": "pYyXJJjJyJ2L",
        "outputId": "6b28bf76-ae29-423a-b757-7d1b528fa319"
      },
      "source": [
        "#displaying column names \n",
        "df.columns"
      ],
      "execution_count": 418,
      "outputs": [
        {
          "output_type": "execute_result",
          "data": {
            "text/plain": [
              "Index(['Unnamed: 0', 'WTT', 'PTI', 'EQW', 'SBI', 'LQE', 'QWG', 'FDJ', 'PJF',\n",
              "       'HQE', 'NXJ', 'TARGET CLASS'],\n",
              "      dtype='object')"
            ]
          },
          "metadata": {
            "tags": []
          },
          "execution_count": 418
        }
      ]
    },
    {
      "cell_type": "code",
      "metadata": {
        "id": "sO6ghyxUytHm"
      },
      "source": [
        "#dropping column 'Unnamed: 0' and changing the data set \n",
        "df.drop(['Unnamed: 0'], axis=1, inplace=True)"
      ],
      "execution_count": 419,
      "outputs": []
    },
    {
      "cell_type": "code",
      "metadata": {
        "colab": {
          "base_uri": "https://localhost:8080/",
          "height": 234
        },
        "id": "KTt6Wl_WytKo",
        "outputId": "908bca70-a9b5-4cc3-be12-4ce25ccd5336"
      },
      "source": [
        "#displaying the first 5 elements of the data set after the previous change\n",
        "df.head()"
      ],
      "execution_count": 420,
      "outputs": [
        {
          "output_type": "execute_result",
          "data": {
            "text/html": [
              "<div>\n",
              "<style scoped>\n",
              "    .dataframe tbody tr th:only-of-type {\n",
              "        vertical-align: middle;\n",
              "    }\n",
              "\n",
              "    .dataframe tbody tr th {\n",
              "        vertical-align: top;\n",
              "    }\n",
              "\n",
              "    .dataframe thead th {\n",
              "        text-align: right;\n",
              "    }\n",
              "</style>\n",
              "<table border=\"1\" class=\"dataframe\">\n",
              "  <thead>\n",
              "    <tr style=\"text-align: right;\">\n",
              "      <th></th>\n",
              "      <th>WTT</th>\n",
              "      <th>PTI</th>\n",
              "      <th>EQW</th>\n",
              "      <th>SBI</th>\n",
              "      <th>LQE</th>\n",
              "      <th>QWG</th>\n",
              "      <th>FDJ</th>\n",
              "      <th>PJF</th>\n",
              "      <th>HQE</th>\n",
              "      <th>NXJ</th>\n",
              "      <th>TARGET CLASS</th>\n",
              "    </tr>\n",
              "  </thead>\n",
              "  <tbody>\n",
              "    <tr>\n",
              "      <th>0</th>\n",
              "      <td>0.913917</td>\n",
              "      <td>1.162073</td>\n",
              "      <td>0.567946</td>\n",
              "      <td>0.755464</td>\n",
              "      <td>0.780862</td>\n",
              "      <td>0.352608</td>\n",
              "      <td>0.759697</td>\n",
              "      <td>0.643798</td>\n",
              "      <td>0.879422</td>\n",
              "      <td>1.231409</td>\n",
              "      <td>1</td>\n",
              "    </tr>\n",
              "    <tr>\n",
              "      <th>1</th>\n",
              "      <td>0.635632</td>\n",
              "      <td>1.003722</td>\n",
              "      <td>0.535342</td>\n",
              "      <td>0.825645</td>\n",
              "      <td>0.924109</td>\n",
              "      <td>0.648450</td>\n",
              "      <td>0.675334</td>\n",
              "      <td>1.013546</td>\n",
              "      <td>0.621552</td>\n",
              "      <td>1.492702</td>\n",
              "      <td>0</td>\n",
              "    </tr>\n",
              "    <tr>\n",
              "      <th>2</th>\n",
              "      <td>0.721360</td>\n",
              "      <td>1.201493</td>\n",
              "      <td>0.921990</td>\n",
              "      <td>0.855595</td>\n",
              "      <td>1.526629</td>\n",
              "      <td>0.720781</td>\n",
              "      <td>1.626351</td>\n",
              "      <td>1.154483</td>\n",
              "      <td>0.957877</td>\n",
              "      <td>1.285597</td>\n",
              "      <td>0</td>\n",
              "    </tr>\n",
              "    <tr>\n",
              "      <th>3</th>\n",
              "      <td>1.234204</td>\n",
              "      <td>1.386726</td>\n",
              "      <td>0.653046</td>\n",
              "      <td>0.825624</td>\n",
              "      <td>1.142504</td>\n",
              "      <td>0.875128</td>\n",
              "      <td>1.409708</td>\n",
              "      <td>1.380003</td>\n",
              "      <td>1.522692</td>\n",
              "      <td>1.153093</td>\n",
              "      <td>1</td>\n",
              "    </tr>\n",
              "    <tr>\n",
              "      <th>4</th>\n",
              "      <td>1.279491</td>\n",
              "      <td>0.949750</td>\n",
              "      <td>0.627280</td>\n",
              "      <td>0.668976</td>\n",
              "      <td>1.232537</td>\n",
              "      <td>0.703727</td>\n",
              "      <td>1.115596</td>\n",
              "      <td>0.646691</td>\n",
              "      <td>1.463812</td>\n",
              "      <td>1.419167</td>\n",
              "      <td>1</td>\n",
              "    </tr>\n",
              "  </tbody>\n",
              "</table>\n",
              "</div>"
            ],
            "text/plain": [
              "        WTT       PTI       EQW  ...       HQE       NXJ  TARGET CLASS\n",
              "0  0.913917  1.162073  0.567946  ...  0.879422  1.231409             1\n",
              "1  0.635632  1.003722  0.535342  ...  0.621552  1.492702             0\n",
              "2  0.721360  1.201493  0.921990  ...  0.957877  1.285597             0\n",
              "3  1.234204  1.386726  0.653046  ...  1.522692  1.153093             1\n",
              "4  1.279491  0.949750  0.627280  ...  1.463812  1.419167             1\n",
              "\n",
              "[5 rows x 11 columns]"
            ]
          },
          "metadata": {
            "tags": []
          },
          "execution_count": 420
        }
      ]
    },
    {
      "cell_type": "code",
      "metadata": {
        "id": "6vC8ikpUxvEi"
      },
      "source": [
        "#importing StandardScaler to remove the mean and scaling to unit variance \n",
        "from sklearn.preprocessing import StandardScaler"
      ],
      "execution_count": 421,
      "outputs": []
    },
    {
      "cell_type": "code",
      "metadata": {
        "id": "B0D7ON5lx4pe"
      },
      "source": [
        "#variable called scalar set to the function StandardScaler()\n",
        "scalar = StandardScaler()"
      ],
      "execution_count": 422,
      "outputs": []
    },
    {
      "cell_type": "code",
      "metadata": {
        "colab": {
          "base_uri": "https://localhost:8080/"
        },
        "id": "Ev0nPvWkx7b7",
        "outputId": "42c8ff44-eb0f-4af8-8967-12716c89758c"
      },
      "source": [
        "#compute the mean and std to be use for scaling\n",
        "#drop'TARGET CLASS' column \n",
        "scalar.fit(df.drop('TARGET CLASS', axis=1))"
      ],
      "execution_count": 423,
      "outputs": [
        {
          "output_type": "execute_result",
          "data": {
            "text/plain": [
              "StandardScaler(copy=True, with_mean=True, with_std=True)"
            ]
          },
          "metadata": {
            "tags": []
          },
          "execution_count": 423
        }
      ]
    },
    {
      "cell_type": "code",
      "metadata": {
        "id": "31OaX4IMzWM7"
      },
      "source": [
        "#variable called scaled_features\n",
        "#perform standardization by centering and scaling \n",
        "scaled_features = scalar.transform(df.drop('TARGET CLASS', axis=1))"
      ],
      "execution_count": 424,
      "outputs": []
    },
    {
      "cell_type": "code",
      "metadata": {
        "id": "lQoEL0gSzj9O"
      },
      "source": [
        "#setting a data frame calles df_feature that has the scaled features \n",
        "df_feature = pd.DataFrame(scaled_features, columns=df.columns[:-1])"
      ],
      "execution_count": 425,
      "outputs": []
    },
    {
      "cell_type": "code",
      "metadata": {
        "colab": {
          "base_uri": "https://localhost:8080/",
          "height": 217
        },
        "id": "fUwKwv0dzuQ6",
        "outputId": "6b0bf520-178b-42bc-adf9-44d2490a1e41"
      },
      "source": [
        "#displaying the first 5 elements of the data set after dropping TARGET CLASS\n",
        "#and scaling the data set \n",
        "df_feature.head()"
      ],
      "execution_count": 426,
      "outputs": [
        {
          "output_type": "execute_result",
          "data": {
            "text/html": [
              "<div>\n",
              "<style scoped>\n",
              "    .dataframe tbody tr th:only-of-type {\n",
              "        vertical-align: middle;\n",
              "    }\n",
              "\n",
              "    .dataframe tbody tr th {\n",
              "        vertical-align: top;\n",
              "    }\n",
              "\n",
              "    .dataframe thead th {\n",
              "        text-align: right;\n",
              "    }\n",
              "</style>\n",
              "<table border=\"1\" class=\"dataframe\">\n",
              "  <thead>\n",
              "    <tr style=\"text-align: right;\">\n",
              "      <th></th>\n",
              "      <th>WTT</th>\n",
              "      <th>PTI</th>\n",
              "      <th>EQW</th>\n",
              "      <th>SBI</th>\n",
              "      <th>LQE</th>\n",
              "      <th>QWG</th>\n",
              "      <th>FDJ</th>\n",
              "      <th>PJF</th>\n",
              "      <th>HQE</th>\n",
              "      <th>NXJ</th>\n",
              "    </tr>\n",
              "  </thead>\n",
              "  <tbody>\n",
              "    <tr>\n",
              "      <th>0</th>\n",
              "      <td>-0.123542</td>\n",
              "      <td>0.185907</td>\n",
              "      <td>-0.913431</td>\n",
              "      <td>0.319629</td>\n",
              "      <td>-1.033637</td>\n",
              "      <td>-2.308375</td>\n",
              "      <td>-0.798951</td>\n",
              "      <td>-1.482368</td>\n",
              "      <td>-0.949719</td>\n",
              "      <td>-0.643314</td>\n",
              "    </tr>\n",
              "    <tr>\n",
              "      <th>1</th>\n",
              "      <td>-1.084836</td>\n",
              "      <td>-0.430348</td>\n",
              "      <td>-1.025313</td>\n",
              "      <td>0.625388</td>\n",
              "      <td>-0.444847</td>\n",
              "      <td>-1.152706</td>\n",
              "      <td>-1.129797</td>\n",
              "      <td>-0.202240</td>\n",
              "      <td>-1.828051</td>\n",
              "      <td>0.636759</td>\n",
              "    </tr>\n",
              "    <tr>\n",
              "      <th>2</th>\n",
              "      <td>-0.788702</td>\n",
              "      <td>0.339318</td>\n",
              "      <td>0.301511</td>\n",
              "      <td>0.755873</td>\n",
              "      <td>2.031693</td>\n",
              "      <td>-0.870156</td>\n",
              "      <td>2.599818</td>\n",
              "      <td>0.285707</td>\n",
              "      <td>-0.682494</td>\n",
              "      <td>-0.377850</td>\n",
              "    </tr>\n",
              "    <tr>\n",
              "      <th>3</th>\n",
              "      <td>0.982841</td>\n",
              "      <td>1.060193</td>\n",
              "      <td>-0.621399</td>\n",
              "      <td>0.625299</td>\n",
              "      <td>0.452820</td>\n",
              "      <td>-0.267220</td>\n",
              "      <td>1.750208</td>\n",
              "      <td>1.066491</td>\n",
              "      <td>1.241325</td>\n",
              "      <td>-1.026987</td>\n",
              "    </tr>\n",
              "    <tr>\n",
              "      <th>4</th>\n",
              "      <td>1.139275</td>\n",
              "      <td>-0.640392</td>\n",
              "      <td>-0.709819</td>\n",
              "      <td>-0.057175</td>\n",
              "      <td>0.822886</td>\n",
              "      <td>-0.936773</td>\n",
              "      <td>0.596782</td>\n",
              "      <td>-1.472352</td>\n",
              "      <td>1.040772</td>\n",
              "      <td>0.276510</td>\n",
              "    </tr>\n",
              "  </tbody>\n",
              "</table>\n",
              "</div>"
            ],
            "text/plain": [
              "        WTT       PTI       EQW  ...       PJF       HQE       NXJ\n",
              "0 -0.123542  0.185907 -0.913431  ... -1.482368 -0.949719 -0.643314\n",
              "1 -1.084836 -0.430348 -1.025313  ... -0.202240 -1.828051  0.636759\n",
              "2 -0.788702  0.339318  0.301511  ...  0.285707 -0.682494 -0.377850\n",
              "3  0.982841  1.060193 -0.621399  ...  1.066491  1.241325 -1.026987\n",
              "4  1.139275 -0.640392 -0.709819  ... -1.472352  1.040772  0.276510\n",
              "\n",
              "[5 rows x 10 columns]"
            ]
          },
          "metadata": {
            "tags": []
          },
          "execution_count": 426
        }
      ]
    },
    {
      "cell_type": "code",
      "metadata": {
        "id": "-YTu4jr-0BrN"
      },
      "source": [
        "#importing sklearn.model_selection to randomnize permutations to generate splits \n",
        "from sklearn.model_selection import train_test_split"
      ],
      "execution_count": 427,
      "outputs": []
    },
    {
      "cell_type": "code",
      "metadata": {
        "id": "Z9RKgY940BuO"
      },
      "source": [
        "#training test for x and y. Scale features and take the column 'TARGET CLASS' and test 30% of the data set\n",
        "X_train, X_test, y_train, y_test  = train_test_split(scaled_features, df['TARGET CLASS'], test_size =0.3)"
      ],
      "execution_count": 428,
      "outputs": []
    },
    {
      "cell_type": "code",
      "metadata": {
        "id": "kcONFQA3zvtu"
      },
      "source": [
        "#importing KNeighborsClassifier \n",
        "from sklearn.neighbors import  KNeighborsClassifier"
      ],
      "execution_count": 429,
      "outputs": []
    },
    {
      "cell_type": "code",
      "metadata": {
        "id": "dPUYq0GTz89Q"
      },
      "source": [
        "#variable knn \n",
        "#function KNeighborsClassifier with neighbor equal to 1\n",
        "knn = KNeighborsClassifier(n_neighbors=1)"
      ],
      "execution_count": 430,
      "outputs": []
    },
    {
      "cell_type": "code",
      "metadata": {
        "colab": {
          "base_uri": "https://localhost:8080/"
        },
        "id": "jTurxKHvz-TM",
        "outputId": "9d2185f3-b91a-422d-896c-0042342542e6"
      },
      "source": [
        "#fit the k-nearest neighbors classifier from the training data set \n",
        "knn.fit(X_train,y_train)"
      ],
      "execution_count": 431,
      "outputs": [
        {
          "output_type": "execute_result",
          "data": {
            "text/plain": [
              "KNeighborsClassifier(algorithm='auto', leaf_size=30, metric='minkowski',\n",
              "                     metric_params=None, n_jobs=None, n_neighbors=1, p=2,\n",
              "                     weights='uniform')"
            ]
          },
          "metadata": {
            "tags": []
          },
          "execution_count": 431
        }
      ]
    },
    {
      "cell_type": "code",
      "metadata": {
        "id": "oHd48aqf0gYV"
      },
      "source": [
        "#predict the class labels for the provided data\n",
        "predict = knn.predict(X_test)"
      ],
      "execution_count": 432,
      "outputs": []
    },
    {
      "cell_type": "code",
      "metadata": {
        "colab": {
          "base_uri": "https://localhost:8080/"
        },
        "id": "k9q-OTab0kLM",
        "outputId": "2c1ea575-6cb4-41fe-bf41-cc206586a622"
      },
      "source": [
        "#printing the predicted labels of X_test\n",
        "predict"
      ],
      "execution_count": 433,
      "outputs": [
        {
          "output_type": "execute_result",
          "data": {
            "text/plain": [
              "array([0, 1, 1, 1, 0, 0, 1, 0, 1, 1, 1, 1, 1, 0, 0, 1, 1, 0, 0, 0, 0, 0,\n",
              "       0, 1, 0, 0, 1, 1, 0, 1, 0, 1, 1, 1, 0, 0, 0, 0, 1, 1, 1, 1, 0, 1,\n",
              "       1, 0, 0, 1, 0, 1, 0, 0, 1, 0, 0, 0, 0, 0, 1, 0, 1, 0, 0, 0, 0, 0,\n",
              "       1, 0, 0, 1, 0, 0, 0, 1, 1, 1, 1, 1, 0, 1, 0, 1, 1, 1, 0, 0, 1, 0,\n",
              "       0, 1, 0, 0, 1, 1, 1, 0, 0, 1, 1, 0, 1, 0, 0, 0, 0, 0, 1, 0, 1, 0,\n",
              "       1, 0, 1, 1, 0, 0, 0, 1, 1, 0, 1, 0, 1, 1, 0, 0, 1, 1, 1, 1, 0, 0,\n",
              "       0, 0, 1, 1, 0, 0, 0, 1, 0, 0, 0, 1, 0, 1, 1, 1, 0, 1, 1, 1, 0, 0,\n",
              "       0, 0, 0, 0, 0, 0, 0, 1, 0, 0, 1, 0, 1, 1, 0, 1, 1, 0, 0, 1, 1, 1,\n",
              "       1, 1, 1, 1, 0, 1, 1, 0, 0, 0, 1, 1, 0, 0, 1, 1, 0, 1, 0, 0, 1, 0,\n",
              "       1, 1, 1, 1, 1, 1, 1, 0, 0, 0, 1, 1, 0, 1, 1, 1, 1, 1, 1, 1, 1, 0,\n",
              "       1, 0, 1, 0, 0, 0, 1, 1, 1, 1, 0, 1, 0, 0, 0, 0, 0, 1, 0, 1, 0, 1,\n",
              "       1, 1, 1, 1, 0, 1, 1, 1, 0, 1, 1, 0, 0, 1, 1, 0, 0, 0, 0, 1, 1, 1,\n",
              "       0, 1, 1, 0, 1, 1, 1, 1, 1, 1, 1, 0, 0, 1, 0, 1, 1, 0, 1, 1, 0, 1,\n",
              "       1, 1, 1, 0, 0, 0, 1, 1, 0, 1, 0, 1, 1, 0])"
            ]
          },
          "metadata": {
            "tags": []
          },
          "execution_count": 433
        }
      ]
    },
    {
      "cell_type": "code",
      "metadata": {
        "id": "dfhWGCeI0mEs"
      },
      "source": [
        "#importing classification_report, confusion matrix \n",
        "from sklearn.metrics import  classification_report, confusion_matrix"
      ],
      "execution_count": 434,
      "outputs": []
    },
    {
      "cell_type": "code",
      "metadata": {
        "colab": {
          "base_uri": "https://localhost:8080/"
        },
        "id": "-Br0Lg4Y0v7x",
        "outputId": "b19c52fc-a39c-402b-9fe2-d94b998a87bc"
      },
      "source": [
        "#printing the confusion matrix n x n\n",
        "print(confusion_matrix(y_test,predict))"
      ],
      "execution_count": 435,
      "outputs": [
        {
          "output_type": "stream",
          "text": [
            "[[129  15]\n",
            " [ 14 142]]\n"
          ],
          "name": "stdout"
        }
      ]
    },
    {
      "cell_type": "code",
      "metadata": {
        "colab": {
          "base_uri": "https://localhost:8080/",
          "height": 520
        },
        "id": "9TC9-OLH4MWY",
        "outputId": "d2eb31c1-5cde-4fb4-839d-880a197aa58f"
      },
      "source": [
        "#printing the confusion matrix graph \r\n",
        "plt.figure(figsize=(9,9))\r\n",
        "sns.heatmap(confusion_matrix(y_test, predict), annot=True, fmt=\".3f\", linewidths=.5, square = True, cmap = 'Blues_r');\r\n",
        "plt.ylabel('Actual label');\r\n",
        "plt.xlabel('Predicted label');\r\n",
        "all_sample_title = 'Accuracy Score: {0}'.format(knn.score(X_test, y_test))\r\n",
        "plt.title(all_sample_title, size = 15);"
      ],
      "execution_count": 436,
      "outputs": [
        {
          "output_type": "display_data",
          "data": {
            "image/png": "[encoded data removed]",
            "text/plain": [
              "<Figure size 648x648 with 2 Axes>"
            ]
          },
          "metadata": {
            "tags": [],
            "needs_background": "light"
          }
        }
      ]
    },
    {
      "cell_type": "code",
      "metadata": {
        "colab": {
          "base_uri": "https://localhost:8080/"
        },
        "id": "_74q_q5j00dx",
        "outputId": "80092c3a-5bdc-4528-e4b5-aa7402ded3d8"
      },
      "source": [
        "#recall = how many of this class you find over the whole number of element of this class  \n",
        "#precision =  how many are correctly classified among that class \n",
        "#f1 score = is the weighted avg of precision and recall \n",
        "#support is the number of occurence of the given class in your dataset \n",
        "#accuracy is 0.92\n",
        "print(classification_report(y_test,predict))"
      ],
      "execution_count": 437,
      "outputs": [
        {
          "output_type": "stream",
          "text": [
            "              precision    recall  f1-score   support\n",
            "\n",
            "           0       0.90      0.90      0.90       144\n",
            "           1       0.90      0.91      0.91       156\n",
            "\n",
            "    accuracy                           0.90       300\n",
            "   macro avg       0.90      0.90      0.90       300\n",
            "weighted avg       0.90      0.90      0.90       300\n",
            "\n"
          ],
          "name": "stdout"
        }
      ]
    },
    {
      "cell_type": "code",
      "metadata": {
        "id": "n2O0ajKc05_x"
      },
      "source": [
        ""
      ],
      "execution_count": 437,
      "outputs": []
    },
    {
      "cell_type": "markdown",
      "metadata": {
        "id": "HKQ_Ddd_4f6M"
      },
      "source": [
        "# Repeat above steps for K = 5, see what happens with Accuracy"
      ]
    },
    {
      "cell_type": "code",
      "metadata": {
        "id": "z-eCkmGO4mp0"
      },
      "source": [
        "#variable newValue\n",
        "#function KNeighborsClassifier with neighbor equal to 1\n",
        "newValue = KNeighborsClassifier(n_neighbors = 5)"
      ],
      "execution_count": 438,
      "outputs": []
    },
    {
      "cell_type": "code",
      "metadata": {
        "id": "M2hFjUez4msT",
        "colab": {
          "base_uri": "https://localhost:8080/"
        },
        "outputId": "188b3f3f-da99-484b-997b-56c4d87dd408"
      },
      "source": [
        "#fit the k-nearest neighbors classifier from the training data set \n",
        "newValue.fit(X_train, y_train)"
      ],
      "execution_count": 439,
      "outputs": [
        {
          "output_type": "execute_result",
          "data": {
            "text/plain": [
              "KNeighborsClassifier(algorithm='auto', leaf_size=30, metric='minkowski',\n",
              "                     metric_params=None, n_jobs=None, n_neighbors=5, p=2,\n",
              "                     weights='uniform')"
            ]
          },
          "metadata": {
            "tags": []
          },
          "execution_count": 439
        }
      ]
    },
    {
      "cell_type": "code",
      "metadata": {
        "id": "d8UoZk5i4mvJ"
      },
      "source": [
        "#predict the class labels for the provided data\n",
        "predict2 = newValue.predict(X_test)"
      ],
      "execution_count": 440,
      "outputs": []
    },
    {
      "cell_type": "code",
      "metadata": {
        "id": "M5mFEQqQ4mzh",
        "colab": {
          "base_uri": "https://localhost:8080/"
        },
        "outputId": "a5dcca19-aaa4-4fd9-d522-e0d99a9b2e65"
      },
      "source": [
        "#printing the predicted labels of X_test\n",
        "predict2"
      ],
      "execution_count": 441,
      "outputs": [
        {
          "output_type": "execute_result",
          "data": {
            "text/plain": [
              "array([0, 1, 1, 1, 0, 0, 1, 0, 1, 1, 1, 1, 0, 0, 1, 1, 1, 0, 0, 0, 0, 0,\n",
              "       0, 1, 0, 0, 1, 1, 0, 1, 0, 1, 1, 1, 0, 0, 0, 0, 1, 1, 1, 1, 0, 1,\n",
              "       1, 0, 0, 1, 0, 1, 0, 0, 1, 0, 0, 0, 0, 0, 1, 0, 1, 1, 0, 0, 0, 0,\n",
              "       1, 0, 0, 1, 0, 0, 0, 1, 1, 1, 1, 0, 0, 0, 1, 1, 1, 1, 0, 0, 1, 0,\n",
              "       1, 1, 0, 1, 1, 1, 1, 0, 0, 1, 1, 0, 1, 0, 0, 0, 0, 0, 1, 0, 1, 0,\n",
              "       1, 0, 1, 1, 0, 0, 0, 1, 1, 0, 1, 0, 1, 1, 0, 0, 1, 1, 0, 1, 0, 0,\n",
              "       0, 0, 1, 1, 0, 0, 0, 1, 0, 0, 0, 1, 0, 1, 1, 1, 0, 1, 1, 1, 0, 0,\n",
              "       0, 0, 0, 0, 0, 0, 0, 1, 0, 0, 1, 0, 0, 1, 0, 1, 1, 0, 0, 1, 0, 1,\n",
              "       1, 1, 1, 0, 0, 1, 1, 0, 1, 0, 1, 1, 0, 0, 1, 1, 0, 1, 1, 0, 1, 0,\n",
              "       1, 1, 1, 1, 1, 1, 1, 0, 0, 0, 1, 0, 0, 1, 1, 1, 1, 1, 1, 1, 1, 0,\n",
              "       1, 0, 0, 1, 0, 0, 1, 1, 1, 1, 0, 1, 0, 0, 0, 0, 0, 1, 0, 1, 0, 1,\n",
              "       1, 1, 1, 1, 0, 0, 1, 1, 0, 0, 0, 0, 0, 1, 1, 0, 0, 0, 0, 1, 1, 1,\n",
              "       0, 1, 1, 0, 1, 1, 1, 1, 1, 1, 1, 0, 0, 1, 0, 1, 1, 0, 1, 1, 0, 1,\n",
              "       1, 1, 1, 0, 0, 0, 1, 1, 0, 1, 0, 1, 1, 0])"
            ]
          },
          "metadata": {
            "tags": []
          },
          "execution_count": 441
        }
      ]
    },
    {
      "cell_type": "code",
      "metadata": {
        "id": "biNZkTVB4m2G",
        "colab": {
          "base_uri": "https://localhost:8080/",
          "height": 555
        },
        "outputId": "14c4b792-5c4d-4ccb-8043-4d13dec8f387"
      },
      "source": [
        "#printing rhe confusion matrix n x n\n",
        "print(confusion_matrix(y_test, predict2))\n",
        "\n",
        "#printing the confusion matrix graph \n",
        "plt.figure(figsize=(9,9))\n",
        "sns.heatmap(confusion_matrix(y_test, predict), annot=True, fmt=\".3f\", linewidths=.5, square = True, cmap = 'Purples_r');\n",
        "plt.ylabel('Actual label');\n",
        "plt.xlabel('Predicted label');\n",
        "all_sample_title = 'Accuracy Score: {0}'.format(knn.score(X_test, y_test))\n",
        "plt.title(all_sample_title, size = 15);"
      ],
      "execution_count": 442,
      "outputs": [
        {
          "output_type": "stream",
          "text": [
            "[[136   8]\n",
            " [ 11 145]]\n"
          ],
          "name": "stdout"
        },
        {
          "output_type": "display_data",
          "data": {
            "image/png": "[encoded data removed]",
            "text/plain": [
              "<Figure size 648x648 with 2 Axes>"
            ]
          },
          "metadata": {
            "tags": [],
            "needs_background": "light"
          }
        }
      ]
    },
    {
      "cell_type": "code",
      "metadata": {
        "id": "IqBdxTIu4m5I",
        "colab": {
          "base_uri": "https://localhost:8080/"
        },
        "outputId": "45025d32-5e3b-4437-c54d-cca9fd972475"
      },
      "source": [
        "#recall = how many of this class you find over the whole number of element of this class \n",
        "#precision =  how many are correctly classified among that class \n",
        "#f1 score = is the weighted avg of precision and recall \n",
        "#support is the number of occurence of the given class in your dataset \n",
        "#accuracy for K = 5 is 0.95. More accurate than before \n",
        "print(classification_report(y_test, predict2))"
      ],
      "execution_count": 452,
      "outputs": [
        {
          "output_type": "stream",
          "text": [
            "              precision    recall  f1-score   support\n",
            "\n",
            "           0       0.93      0.94      0.93       144\n",
            "           1       0.95      0.93      0.94       156\n",
            "\n",
            "    accuracy                           0.94       300\n",
            "   macro avg       0.94      0.94      0.94       300\n",
            "weighted avg       0.94      0.94      0.94       300\n",
            "\n"
          ],
          "name": "stdout"
        }
      ]
    },
    {
      "cell_type": "code",
      "metadata": {
        "colab": {
          "base_uri": "https://localhost:8080/"
        },
        "id": "51Xsfhu1Vgde",
        "outputId": "790dced6-ba1d-4259-c27e-cc0b5f9b9a38"
      },
      "source": [
        "#importing metrics to calculate the accuracy with the value of k = 5\n",
        "from sklearn import metrics\n",
        "firstTrial = []\n",
        "firstTrial.append(metrics.accuracy_score(y_test, predict2))\n",
        "print(firstTrial)"
      ],
      "execution_count": 453,
      "outputs": [
        {
          "output_type": "stream",
          "text": [
            "[0.9366666666666666]\n"
          ],
          "name": "stdout"
        }
      ]
    },
    {
      "cell_type": "markdown",
      "metadata": {
        "id": "LQp7CSNm1DyX"
      },
      "source": [
        "# K Value and Accuracy"
      ]
    },
    {
      "cell_type": "code",
      "metadata": {
        "id": "ShxwaWEk1eBp"
      },
      "source": [
        "#importing numpy \n",
        "import numpy as np"
      ],
      "execution_count": 444,
      "outputs": []
    },
    {
      "cell_type": "code",
      "metadata": {
        "id": "BvtiNxNC3Rd7"
      },
      "source": [
        "#importing metrics \n",
        "from sklearn import metrics"
      ],
      "execution_count": 445,
      "outputs": []
    },
    {
      "cell_type": "code",
      "metadata": {
        "id": "tA22-2R21FUl"
      },
      "source": [
        "#variable for a list\n",
        "score =[]"
      ],
      "execution_count": 446,
      "outputs": []
    },
    {
      "cell_type": "code",
      "metadata": {
        "colab": {
          "base_uri": "https://localhost:8080/"
        },
        "id": "yHyk9B7-1HP3",
        "outputId": "722595e6-8e30-4511-e4c4-1f9bf70a215e"
      },
      "source": [
        "#Calculating the acuracy score (y_test vs y_pred)\r\n",
        "for i in range(1,40):\r\n",
        "  knn = KNeighborsClassifier(n_neighbors=i)\r\n",
        "  knn.fit(X_train, y_train)\r\n",
        "  y_pred = knn.predict(X_test)\r\n",
        "  score.append(metrics.accuracy_score(y_test,y_pred))\r\n",
        "\r\n",
        "print(score)"
      ],
      "execution_count": 447,
      "outputs": [
        {
          "output_type": "stream",
          "text": [
            "[0.9033333333333333, 0.8866666666666667, 0.9366666666666666, 0.92, 0.9366666666666666, 0.9366666666666666, 0.9333333333333333, 0.9433333333333334, 0.9466666666666667, 0.95, 0.9533333333333334, 0.95, 0.96, 0.9466666666666667, 0.95, 0.9466666666666667, 0.9533333333333334, 0.95, 0.9533333333333334, 0.95, 0.96, 0.9566666666666667, 0.9566666666666667, 0.9533333333333334, 0.9533333333333334, 0.9533333333333334, 0.9533333333333334, 0.95, 0.9633333333333334, 0.96, 0.9633333333333334, 0.9633333333333334, 0.9666666666666667, 0.9633333333333334, 0.96, 0.9633333333333334, 0.96, 0.9633333333333334, 0.96]\n"
          ],
          "name": "stdout"
        }
      ]
    },
    {
      "cell_type": "code",
      "metadata": {
        "colab": {
          "base_uri": "https://localhost:8080/",
          "height": 407
        },
        "id": "bs714lUa1qcc",
        "outputId": "4d2cae1d-84c4-4f4c-d962-8b7a74d39c51"
      },
      "source": [
        "#plotting the value of k for knn vs testing accuracy on a graph\r\n",
        "#as the value of k increases, the testing accuracy also increases\r\n",
        "#which means the more neighbors a point has, the better accuracy we can get based on similarities \r\n",
        "plt.figure(figsize=(10,6))\r\n",
        "plt.plot(range(1,40),score, color='blue')\r\n",
        "plt.xlabel('Value of K for KNN')\r\n",
        "plt.ylabel('Testing Accuracy')"
      ],
      "execution_count": 448,
      "outputs": [
        {
          "output_type": "execute_result",
          "data": {
            "text/plain": [
              "Text(0, 0.5, 'Testing Accuracy')"
            ]
          },
          "metadata": {
            "tags": []
          },
          "execution_count": 448
        },
        {
          "output_type": "display_data",
          "data": {
            "image/png": "[encoded data removed]",
            "text/plain": [
              "<Figure size 720x432 with 1 Axes>"
            ]
          },
          "metadata": {
            "tags": [],
            "needs_background": "light"
          }
        }
      ]
    },
    {
      "cell_type": "markdown",
      "metadata": {
        "id": "Nckn1ecS-XI-"
      },
      "source": [
        "#Error Rate and K value"
      ]
    },
    {
      "cell_type": "code",
      "metadata": {
        "id": "qKNHtJCk2Avi"
      },
      "source": [
        "error_rate = []\r\n",
        "# Might take some time\r\n",
        "for i in range(1,40):\r\n",
        "    \r\n",
        "    knn = KNeighborsClassifier(n_neighbors=i)\r\n",
        "    knn.fit(X_train,y_train)\r\n",
        "    pred_i = knn.predict(X_test)\r\n",
        "    error_rate.append(np.mean(pred_i != y_test))"
      ],
      "execution_count": 449,
      "outputs": []
    },
    {
      "cell_type": "code",
      "metadata": {
        "colab": {
          "base_uri": "https://localhost:8080/",
          "height": 422
        },
        "id": "_46eQo8o-bZW",
        "outputId": "9177e21b-d081-434e-b2f8-024e93972917"
      },
      "source": [
        "#ploting the k value vs error rate\r\n",
        "#the larger the k the smaller the error rate because the larger the k, the better the accuracy \r\n",
        "#subsequntially avoiding errors\r\n",
        "plt.figure(figsize=(10,6))\r\n",
        "plt.plot(range(1,40),error_rate,color='blue', linestyle='dashed', marker='o',\r\n",
        "         markerfacecolor='red', markersize=10)\r\n",
        "plt.title('Error Rate vs. K Value')\r\n",
        "plt.xlabel('K')\r\n",
        "plt.ylabel('Error Rate')"
      ],
      "execution_count": 450,
      "outputs": [
        {
          "output_type": "execute_result",
          "data": {
            "text/plain": [
              "Text(0, 0.5, 'Error Rate')"
            ]
          },
          "metadata": {
            "tags": []
          },
          "execution_count": 450
        },
        {
          "output_type": "display_data",
          "data": {
            "image/png": "[encoded data removed]",
            "text/plain": [
              "<Figure size 720x432 with 1 Axes>"
            ]
          },
          "metadata": {
            "tags": [],
            "needs_background": "light"
          }
        }
      ]
    },
    {
      "cell_type": "code",
      "metadata": {
        "id": "DTnySkcp-bc5"
      },
      "source": [
        ""
      ],
      "execution_count": 450,
      "outputs": []
    },
    {
      "cell_type": "markdown",
      "metadata": {
        "id": "EmJt7wg34wMN"
      },
      "source": [
        "# Observations: \n",
        "K Value and Accuracy: (Based on the graph)\n",
        "- The higher the k value, the better the accuracy.\n",
        "- Since kNeighbors is based on classifying data on surrounding similarities, the more points surrounding a specific value, the better the accuracy.\n",
        "\n",
        "Error Rate and K Value: (Based on the graph)\n",
        "- Because the larger the k the better the accuracy, the error rate is smaller. \n",
        "- The smaller the error rate, the better the classification of the value is.\n",
        "\n",
        "\n",
        "# Conclusion\n",
        "\n",
        "1.  KNeighbors is an algorithm that stores all avalbale cases and classifies new cases based on similarity measure. The KNeighbors can be classified with the distance of one point to its k neighbors. \n",
        "2.  Predicting on K = 1, the accuracy percent is 90% based on this data set. Changing the K neighbors to a higher k number, makes the accuracy higher. I changed to k = 5 making the accuracy 94%\n",
        "3. Normalized the data set by calling the function StandardScaler() since the values could be in a wide range. By standardizing the values, the objective functons can perform the analyzes more efficiently.  \n"
      ]
    },
    {
      "cell_type": "code",
      "metadata": {
        "id": "gUi4-SZC4yiy"
      },
      "source": [
        ""
      ],
      "execution_count": 450,
      "outputs": []
    }
  ]
}