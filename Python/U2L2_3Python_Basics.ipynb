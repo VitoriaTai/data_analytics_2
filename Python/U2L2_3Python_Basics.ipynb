{
  "nbformat": 4,
  "nbformat_minor": 0,
  "metadata": {
    "colab": {
      "name": "U2L2-3Python_Basics.ipynb",
      "provenance": [],
      "collapsed_sections": []
    },
    "kernelspec": {
      "name": "python3",
      "display_name": "Python 3"
    }
  },
  "cells": [
    {
      "cell_type": "code",
      "metadata": {
        "colab": {
          "base_uri": "https://localhost:8080/"
        },
        "id": "7Uhx27l5jjLw",
        "outputId": "199efc75-6ebf-44d7-d49b-b3e993b1423c"
      },
      "source": [
        "#unit 2 lesson 2\n",
        "message = \"My name is Vitoria\"\n",
        "print(message)"
      ],
      "execution_count": null,
      "outputs": [
        {
          "output_type": "stream",
          "text": [
            "My name is Vitoria\n"
          ],
          "name": "stdout"
        }
      ]
    },
    {
      "cell_type": "code",
      "metadata": {
        "colab": {
          "base_uri": "https://localhost:8080/"
        },
        "id": "m1HMXos8kFBA",
        "outputId": "de6766b9-0957-4ff8-900e-2083ccc9c5c6"
      },
      "source": [
        "first_name = \"Vitoria\"\n",
        "full_name = first_name + \" Tai\"\n",
        "print(\"My full name is \" + full_name)"
      ],
      "execution_count": null,
      "outputs": [
        {
          "output_type": "stream",
          "text": [
            "My full name is Vitoria Tai\n"
          ],
          "name": "stdout"
        }
      ]
    },
    {
      "cell_type": "code",
      "metadata": {
        "colab": {
          "base_uri": "https://localhost:8080/"
        },
        "id": "fkqOifFCl0qB",
        "outputId": "9cda1416-5a39-4406-8706-a2dbb01ab292"
      },
      "source": [
        "name = \"Anton\"\n",
        "message = \"How is your morning so far?\"\n",
        "print(name + \"\\n\" + message)\n",
        "print()\n",
        "\n",
        "activity = \"Letter Size Change:\" \n",
        "uc = name.upper()\n",
        "lc = name.lower()\n",
        "print(activity + \" \\n\" + uc +\" \"+ lc)\n",
        "print()\n",
        "\n",
        "whitespace = \"\\thungry... give me food now!\\t\"\n",
        "print(\"Whitespace activity:\")\n",
        "print(whitespace)\n",
        "print(whitespace.strip())\n"
      ],
      "execution_count": null,
      "outputs": [
        {
          "output_type": "stream",
          "text": [
            "Anton\n",
            "How is your morning so far?\n",
            "\n",
            "Letter Size Change: \n",
            "ANTON anton\n",
            "\n",
            "Whitespace activity:\n",
            "\thungry... give me food now!\t\n",
            "hungry... give me food now!\n"
          ],
          "name": "stdout"
        }
      ]
    },
    {
      "cell_type": "code",
      "metadata": {
        "colab": {
          "base_uri": "https://localhost:8080/"
        },
        "id": "3tVR75HADOv5",
        "outputId": "bbc97326-af48-4776-ec4b-4b0160722d0c"
      },
      "source": [
        "print(\"Math Operation Activity:\")\n",
        "a = 16\n",
        "b = 2\n",
        "c = 4\n",
        "\n",
        "print(c+c)\n",
        "print(a-(c+c))\n",
        "print(b*c)\n",
        "print(a/b)\n",
        "\n",
        "\n"
      ],
      "execution_count": null,
      "outputs": [
        {
          "output_type": "stream",
          "text": [
            "Math Operation Activity:\n",
            "8\n",
            "8\n",
            "8\n",
            "8.0\n"
          ],
          "name": "stdout"
        }
      ]
    },
    {
      "cell_type": "code",
      "metadata": {
        "colab": {
          "base_uri": "https://localhost:8080/"
        },
        "id": "lYrLYmTGG81X",
        "outputId": "741face9-3207-49ed-9388-00e70a4d934b"
      },
      "source": [
        "message = \"hello there!\"\n",
        "print(message)"
      ],
      "execution_count": null,
      "outputs": [
        {
          "output_type": "stream",
          "text": [
            "hello there!\n"
          ],
          "name": "stdout"
        }
      ]
    },
    {
      "cell_type": "code",
      "metadata": {
        "colab": {
          "base_uri": "https://localhost:8080/"
        },
        "id": "HI49O20lHDO8",
        "outputId": "48adcd2b-30a8-4e2d-f8e4-afbc331fb066"
      },
      "source": [
        "first_name = \"Vitoria\"\n",
        "last_name = \"Tai\"\n",
        "email_extension = \"@gmail.com\"\n",
        "print(first_name+last_name+email_extension)"
      ],
      "execution_count": null,
      "outputs": [
        {
          "output_type": "stream",
          "text": [
            "VitoriaTai@gmail.com\n"
          ],
          "name": "stdout"
        }
      ]
    },
    {
      "cell_type": "code",
      "metadata": {
        "colab": {
          "base_uri": "https://localhost:8080/"
        },
        "id": "dCC0pitzHrYL",
        "outputId": "3424d560-da58-4b9e-bfca-a70d5ecb0997"
      },
      "source": [
        "name = \"Anton\"\n",
        "print(name.upper() + \"\\n\" + name.lower())"
      ],
      "execution_count": null,
      "outputs": [
        {
          "output_type": "stream",
          "text": [
            "ANTON\n",
            "anton\n"
          ],
          "name": "stdout"
        }
      ]
    },
    {
      "cell_type": "code",
      "metadata": {
        "colab": {
          "base_uri": "https://localhost:8080/"
        },
        "id": "dksvnXb-IJ30",
        "outputId": "343064c2-45d9-4dd0-b0c2-4387ab979126"
      },
      "source": [
        "day = 15\n",
        "ask = \"Do you want to hang out on the \" + str(day) + \"th of this month?\"\n",
        "print(ask)"
      ],
      "execution_count": null,
      "outputs": [
        {
          "output_type": "stream",
          "text": [
            "Do you want to hang out on the 15th of this month?\n"
          ],
          "name": "stdout"
        }
      ]
    },
    {
      "cell_type": "code",
      "metadata": {
        "colab": {
          "base_uri": "https://localhost:8080/"
        },
        "id": "jKpdCHT2MJFX",
        "outputId": "6fa69864-bdd3-4aec-dcf9-00b85fc3e344"
      },
      "source": [
        "#unit 2 lesson 3\n",
        "friends = ['Kellie', 'Jonathan', 'Elly', 'Benjamin', 'Maxx']\n",
        "print(friends[0] + \"\\n\" + friends[1] + \"\\n\" + friends[2] + \"\\n\" + friends[3] + \"\\n\" + friends[4])\n",
        "print()\n",
        "\n",
        "print(\"You are kind \" + friends[0] + \"!\")\n",
        "print(\"You have been working hard \" + friends[1] + \"...\")\n",
        "print(\"Good luck in SF \" + friends[2] + \"!\")\n",
        "print(\"Eat your food \" + friends[3])\n",
        "print(\"How was school today \" + friends[4] + \"?\")\n"
      ],
      "execution_count": null,
      "outputs": [
        {
          "output_type": "stream",
          "text": [
            "Kellie\n",
            "Jonathan\n",
            "Elly\n",
            "Benjamin\n",
            "Maxx\n",
            "\n",
            "You are kind Kellie!\n",
            "You have been working hard Jonathan...\n",
            "Good luck in SF Elly!\n",
            "Eat your food Benjamin\n",
            "How was school today Maxx?\n"
          ],
          "name": "stdout"
        }
      ]
    }
  ]
}