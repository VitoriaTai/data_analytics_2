{
  "nbformat": 4,
  "nbformat_minor": 0,
  "metadata": {
    "colab": {
      "name": "U3L2DataFrame.ipynb",
      "provenance": []
    },
    "kernelspec": {
      "name": "python3",
      "display_name": "Python 3"
    }
  },
  "cells": [
    {
      "cell_type": "code",
      "metadata": {
        "colab": {
          "base_uri": "https://localhost:8080/"
        },
        "id": "v7j-AaY7w6bf",
        "outputId": "ca0cca84-aa09-4ba8-ee4e-f6ca29ba95ed"
      },
      "source": [
        "#Dataframe Activity\n",
        "\n",
        "#set up 4x4 dim array with (random values,(int ,0 to100) ),\n",
        "#using dataframe convert it to a dataset.\n",
        "#lable the rows (1,2,3,4)and colums(x,y,z,w).\n",
        "#Find ,mean std, max, min, percentile (25%.75%)of each colum.\n",
        "#change colum names to (day, week ,mount year)(see slide 15)\n",
        "import pandas as pd\n",
        "import numpy as np\n",
        "\n",
        "rows = ['1', '2', '3', '4']\n",
        "columns = ['x', 'y', 'z', 'w']\n",
        "df = pd.DataFrame(np.random.randint(0, 100, size = (4, 4)), columns = columns, index = rows)\n",
        "print(df)\n",
        "print('Mean:' + '\\n', np.mean(df), '\\n')\n",
        "print('std:' + '\\n', np.std(df), '\\n')\n",
        "print('Max:' + '\\n', np.max(df), '\\n')\n",
        "print('Min:' + '\\n', np.min(df), '\\n')\n",
        "print('Percentile:' + '\\n', np.percentile(df, 25),'%')\n",
        "print('Percentile:' + '\\n', np.percentile(df, 50),'%', '\\n')\n",
        "df = df.rename(columns = {'x' : 'day', 'y' : 'week', 'z' : 'amount', 'w' : 'year'})\n",
        "print(df)\n"
      ],
      "execution_count": 36,
      "outputs": [
        {
          "output_type": "stream",
          "text": [
            "    x   y   z   w\n",
            "1  16  70  99  35\n",
            "2  66  42  36  70\n",
            "3  37  46  98  76\n",
            "4  91  51  68  16\n",
            "Mean:\n",
            " x    52.50\n",
            "y    52.25\n",
            "z    75.25\n",
            "w    49.25\n",
            "dtype: float64 \n",
            "\n",
            "std:\n",
            " x    28.447320\n",
            "y    10.732544\n",
            "z    25.858993\n",
            "w    24.772717\n",
            "dtype: float64 \n",
            "\n",
            "Max:\n",
            " x    91\n",
            "y    70\n",
            "z    99\n",
            "w    76\n",
            "dtype: int64 \n",
            "\n",
            "Min:\n",
            " x    16\n",
            "y    42\n",
            "z    36\n",
            "w    16\n",
            "dtype: int64 \n",
            "\n",
            "Percentile:\n",
            " 36.75 %\n",
            "Percentile:\n",
            " 58.5 % \n",
            "\n",
            "   day  week  amount  year\n",
            "1   16    70      99    35\n",
            "2   66    42      36    70\n",
            "3   37    46      98    76\n",
            "4   91    51      68    16\n"
          ],
          "name": "stdout"
        }
      ]
    }
  ]
}