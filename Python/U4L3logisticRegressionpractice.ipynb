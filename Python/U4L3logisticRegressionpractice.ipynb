{
  "nbformat": 4,
  "nbformat_minor": 0,
  "metadata": {
    "colab": {
      "name": "U4L3logisticRegressionpractice.ipynb",
      "provenance": [],
      "collapsed_sections": []
    },
    "kernelspec": {
      "name": "python3",
      "display_name": "Python 3"
    }
  },
  "cells": [
    {
      "cell_type": "code",
      "metadata": {
        "colab": {
          "base_uri": "https://localhost:8080/"
        },
        "id": "kF1oddBmvXpE",
        "outputId": "344b7615-f3e9-4284-d089-ed97f5860723"
      },
      "source": [
        "import seaborn as sns \n",
        "import numpy as np\n",
        "import pandas as pd \n",
        "\n",
        "df = pd.DataFrame(data = {'a' : [1, 1, 1,],\n",
        "                          'b' : [2, np.nan, 2],\n",
        "                          'c' : [3, 3, np.nan]})\n",
        "df.shape"
      ],
      "execution_count": 161,
      "outputs": [
        {
          "output_type": "execute_result",
          "data": {
            "text/plain": [
              "(3, 3)"
            ]
          },
          "metadata": {
            "tags": []
          },
          "execution_count": 161
        }
      ]
    },
    {
      "cell_type": "code",
      "metadata": {
        "colab": {
          "base_uri": "https://localhost:8080/",
          "height": 286
        },
        "id": "BFtqWY3gwLbm",
        "outputId": "de492fee-b9d5-4ead-cea1-1cf2431330c6"
      },
      "source": [
        "mask = df.isnull()\n",
        "sns.heatmap(df, mask = mask)"
      ],
      "execution_count": 162,
      "outputs": [
        {
          "output_type": "execute_result",
          "data": {
            "text/plain": [
              "<matplotlib.axes._subplots.AxesSubplot at 0x7f05121ff470>"
            ]
          },
          "metadata": {
            "tags": []
          },
          "execution_count": 162
        },
        {
          "output_type": "display_data",
          "data": {
            "image/png": "[encoded data removed]",
            "text/plain": [
              "<Figure size 432x288 with 2 Axes>"
            ]
          },
          "metadata": {
            "tags": [],
            "needs_background": "light"
          }
        }
      ]
    },
    {
      "cell_type": "code",
      "metadata": {
        "colab": {
          "base_uri": "https://localhost:8080/"
        },
        "id": "2dfih9hLwVYr",
        "outputId": "dd38a0f6-37cf-4401-cb51-81c637e00513"
      },
      "source": [
        "#delete col 2\n",
        "df.drop('b', axis = 1, inplace = True)\n",
        "print(df)"
      ],
      "execution_count": 165,
      "outputs": [
        {
          "output_type": "stream",
          "text": [
            "   a    c\n",
            "0  1  3.0\n",
            "1  1  3.0\n",
            "2  1  NaN\n"
          ],
          "name": "stdout"
        }
      ]
    },
    {
      "cell_type": "code",
      "metadata": {
        "id": "ajvX7DhBzFNz"
      },
      "source": [
        "#add col 2 \n",
        "df['b'] = '2'\n",
        "df"
      ],
      "execution_count": null,
      "outputs": []
    },
    {
      "cell_type": "code",
      "metadata": {
        "id": "EgdrDNSsz0On"
      },
      "source": [
        "#rename col 2\n",
        "df.rename(columns = {'b' : 'd'}, inplace = True)\n",
        "df"
      ],
      "execution_count": null,
      "outputs": []
    },
    {
      "cell_type": "code",
      "metadata": {
        "id": "l0hqtG7n0o6e"
      },
      "source": [
        "#print null locations \n",
        "df.isnull()"
      ],
      "execution_count": null,
      "outputs": []
    },
    {
      "cell_type": "code",
      "metadata": {
        "id": "OwL6VuOhDwLr"
      },
      "source": [
        "#print number of values \n",
        "for things in df.items():\n",
        "  print(things)"
      ],
      "execution_count": null,
      "outputs": []
    },
    {
      "cell_type": "code",
      "metadata": {
        "id": "cHcgOK-jEAT9"
      },
      "source": [
        "#print number of values on each col\n",
        "df.value_counts()"
      ],
      "execution_count": null,
      "outputs": []
    },
    {
      "cell_type": "code",
      "metadata": {
        "id": "uBokhm9CEUDJ"
      },
      "source": [
        "#replace the null value with mean of that col\n",
        "print(df.mean())\n",
        "df.fillna(df.mean())"
      ],
      "execution_count": null,
      "outputs": []
    },
    {
      "cell_type": "code",
      "metadata": {
        "id": "q3avZ4D9EVT_"
      },
      "source": [
        "#show null using heap with sns.heap\n",
        "sns.heatmap(df.isnull())"
      ],
      "execution_count": null,
      "outputs": []
    }
  ]
}