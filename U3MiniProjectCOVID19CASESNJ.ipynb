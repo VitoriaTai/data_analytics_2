{
  "nbformat": 4,
  "nbformat_minor": 0,
  "metadata": {
    "colab": {
      "name": "U3MiniProjectCOVID19CASESNJ.ipynb",
      "provenance": [],
      "authorship_tag": "ABX9TyP1On+cjqoqwM6BlGE3oTsy",
      "include_colab_link": true
    },
    "kernelspec": {
      "name": "python3",
      "display_name": "Python 3"
    }
  },
  "cells": [
    {
      "cell_type": "markdown",
      "metadata": {
        "id": "view-in-github",
        "colab_type": "text"
      },
      "source": [
        "<a href=\"https://colab.research.google.com/github/VitoriaTai/data_analytics_2/blob/main/U3MiniProjectCOVID19CASESNJ.ipynb\" target=\"_parent\"><img src=\"https://colab.research.google.com/assets/colab-badge.svg\" alt=\"Open In Colab\"/></a>"
      ]
    },
    {
      "cell_type": "markdown",
      "metadata": {
        "id": "em-HsT3ICgg7"
      },
      "source": [
        "#Covid 19 Data Analysis \n",
        "\n",
        "Description: The script will read the latest data from the New York Times county level COVID19 database at [https://github.com/nytimes/covid-19-data/blob/master/us-counties.csv]. \n",
        "\n",
        "Aim: \n",
        "1) Filter the data for a chosen county in a chosen state.\n",
        "\n",
        "2) Calculate the daily count of new cases and new deaths.\n",
        "\n",
        "3) Print most recent 30 days worth of data for the selected county. \n",
        "\n",
        "4) Save the county's data for all dates to a comma separated value (.csv) file on your computer.\n",
        "\n",
        "**The printed data can be copied and pasted directly into a spreadsheet for further analysis and vizualization. "
      ]
    },
    {
      "cell_type": "markdown",
      "metadata": {
        "id": "EIE5NYUKEJTT"
      },
      "source": [
        "# Task 1: Environment Set up"
      ]
    },
    {
      "cell_type": "code",
      "metadata": {
        "id": "riEyNHSsDwfn"
      },
      "source": [
        "import pandas as pd \n",
        "import numpy as np \n",
        "import matplotlib.pyplot as plt \n",
        "from matplotlib import style "
      ],
      "execution_count": 56,
      "outputs": []
    },
    {
      "cell_type": "markdown",
      "metadata": {
        "id": "4nmqMUFrEjiq"
      },
      "source": [
        "# Task 2: Data Collection "
      ]
    },
    {
      "cell_type": "code",
      "metadata": {
        "id": "XOMVATQ_Ena3"
      },
      "source": [
        "data = pd.read_csv('https://raw.githubusercontent.com/nytimes/covid-19-data/master/us-states.csv')"
      ],
      "execution_count": 57,
      "outputs": []
    },
    {
      "cell_type": "code",
      "metadata": {
        "colab": {
          "base_uri": "https://localhost:8080/",
          "height": 197
        },
        "id": "HesEXpVcEzpv",
        "outputId": "20804e73-929d-47f6-aed8-1edc6d855626"
      },
      "source": [
        "data.head()"
      ],
      "execution_count": 58,
      "outputs": [
        {
          "output_type": "execute_result",
          "data": {
            "text/html": [
              "<div>\n",
              "<style scoped>\n",
              "    .dataframe tbody tr th:only-of-type {\n",
              "        vertical-align: middle;\n",
              "    }\n",
              "\n",
              "    .dataframe tbody tr th {\n",
              "        vertical-align: top;\n",
              "    }\n",
              "\n",
              "    .dataframe thead th {\n",
              "        text-align: right;\n",
              "    }\n",
              "</style>\n",
              "<table border=\"1\" class=\"dataframe\">\n",
              "  <thead>\n",
              "    <tr style=\"text-align: right;\">\n",
              "      <th></th>\n",
              "      <th>date</th>\n",
              "      <th>state</th>\n",
              "      <th>fips</th>\n",
              "      <th>cases</th>\n",
              "      <th>deaths</th>\n",
              "    </tr>\n",
              "  </thead>\n",
              "  <tbody>\n",
              "    <tr>\n",
              "      <th>0</th>\n",
              "      <td>2020-01-21</td>\n",
              "      <td>Washington</td>\n",
              "      <td>53</td>\n",
              "      <td>1</td>\n",
              "      <td>0</td>\n",
              "    </tr>\n",
              "    <tr>\n",
              "      <th>1</th>\n",
              "      <td>2020-01-22</td>\n",
              "      <td>Washington</td>\n",
              "      <td>53</td>\n",
              "      <td>1</td>\n",
              "      <td>0</td>\n",
              "    </tr>\n",
              "    <tr>\n",
              "      <th>2</th>\n",
              "      <td>2020-01-23</td>\n",
              "      <td>Washington</td>\n",
              "      <td>53</td>\n",
              "      <td>1</td>\n",
              "      <td>0</td>\n",
              "    </tr>\n",
              "    <tr>\n",
              "      <th>3</th>\n",
              "      <td>2020-01-24</td>\n",
              "      <td>Illinois</td>\n",
              "      <td>17</td>\n",
              "      <td>1</td>\n",
              "      <td>0</td>\n",
              "    </tr>\n",
              "    <tr>\n",
              "      <th>4</th>\n",
              "      <td>2020-01-24</td>\n",
              "      <td>Washington</td>\n",
              "      <td>53</td>\n",
              "      <td>1</td>\n",
              "      <td>0</td>\n",
              "    </tr>\n",
              "  </tbody>\n",
              "</table>\n",
              "</div>"
            ],
            "text/plain": [
              "         date       state  fips  cases  deaths\n",
              "0  2020-01-21  Washington    53      1       0\n",
              "1  2020-01-22  Washington    53      1       0\n",
              "2  2020-01-23  Washington    53      1       0\n",
              "3  2020-01-24    Illinois    17      1       0\n",
              "4  2020-01-24  Washington    53      1       0"
            ]
          },
          "metadata": {
            "tags": []
          },
          "execution_count": 58
        }
      ]
    },
    {
      "cell_type": "code",
      "metadata": {
        "colab": {
          "base_uri": "https://localhost:8080/"
        },
        "id": "npJPy90HFB5K",
        "outputId": "aa5a6101-797f-4649-f746-1a7270a9992b"
      },
      "source": [
        "data.shape"
      ],
      "execution_count": 59,
      "outputs": [
        {
          "output_type": "execute_result",
          "data": {
            "text/plain": [
              "(17394, 5)"
            ]
          },
          "metadata": {
            "tags": []
          },
          "execution_count": 59
        }
      ]
    },
    {
      "cell_type": "code",
      "metadata": {
        "colab": {
          "base_uri": "https://localhost:8080/"
        },
        "id": "d-twFYbnFJHx",
        "outputId": "3b8317d5-361d-4976-e3a9-c97e1691a427"
      },
      "source": [
        "data.columns"
      ],
      "execution_count": 60,
      "outputs": [
        {
          "output_type": "execute_result",
          "data": {
            "text/plain": [
              "Index(['date', 'state', 'fips', 'cases', 'deaths'], dtype='object')"
            ]
          },
          "metadata": {
            "tags": []
          },
          "execution_count": 60
        }
      ]
    },
    {
      "cell_type": "markdown",
      "metadata": {
        "id": "RUa-JwCWFMTv"
      },
      "source": [
        "# Task 3: Data Wrangling and EDA (Exploration Data Analysis)"
      ]
    },
    {
      "cell_type": "code",
      "metadata": {
        "id": "xQiBVBZxFWOS"
      },
      "source": [
        "nj_data = data[data['state'] == 'New Jersey']"
      ],
      "execution_count": 61,
      "outputs": []
    },
    {
      "cell_type": "code",
      "metadata": {
        "colab": {
          "base_uri": "https://localhost:8080/",
          "height": 197
        },
        "id": "sWCYb0DpFev_",
        "outputId": "ae68b859-d23c-4433-f9f2-091d20b782e7"
      },
      "source": [
        "nj_data.head()"
      ],
      "execution_count": 62,
      "outputs": [
        {
          "output_type": "execute_result",
          "data": {
            "text/html": [
              "<div>\n",
              "<style scoped>\n",
              "    .dataframe tbody tr th:only-of-type {\n",
              "        vertical-align: middle;\n",
              "    }\n",
              "\n",
              "    .dataframe tbody tr th {\n",
              "        vertical-align: top;\n",
              "    }\n",
              "\n",
              "    .dataframe thead th {\n",
              "        text-align: right;\n",
              "    }\n",
              "</style>\n",
              "<table border=\"1\" class=\"dataframe\">\n",
              "  <thead>\n",
              "    <tr style=\"text-align: right;\">\n",
              "      <th></th>\n",
              "      <th>date</th>\n",
              "      <th>state</th>\n",
              "      <th>fips</th>\n",
              "      <th>cases</th>\n",
              "      <th>deaths</th>\n",
              "    </tr>\n",
              "  </thead>\n",
              "  <tbody>\n",
              "    <tr>\n",
              "      <th>292</th>\n",
              "      <td>2020-03-04</td>\n",
              "      <td>New Jersey</td>\n",
              "      <td>34</td>\n",
              "      <td>1</td>\n",
              "      <td>0</td>\n",
              "    </tr>\n",
              "    <tr>\n",
              "      <th>312</th>\n",
              "      <td>2020-03-05</td>\n",
              "      <td>New Jersey</td>\n",
              "      <td>34</td>\n",
              "      <td>2</td>\n",
              "      <td>0</td>\n",
              "    </tr>\n",
              "    <tr>\n",
              "      <th>337</th>\n",
              "      <td>2020-03-06</td>\n",
              "      <td>New Jersey</td>\n",
              "      <td>34</td>\n",
              "      <td>4</td>\n",
              "      <td>0</td>\n",
              "    </tr>\n",
              "    <tr>\n",
              "      <th>368</th>\n",
              "      <td>2020-03-07</td>\n",
              "      <td>New Jersey</td>\n",
              "      <td>34</td>\n",
              "      <td>4</td>\n",
              "      <td>0</td>\n",
              "    </tr>\n",
              "    <tr>\n",
              "      <th>403</th>\n",
              "      <td>2020-03-08</td>\n",
              "      <td>New Jersey</td>\n",
              "      <td>34</td>\n",
              "      <td>6</td>\n",
              "      <td>0</td>\n",
              "    </tr>\n",
              "  </tbody>\n",
              "</table>\n",
              "</div>"
            ],
            "text/plain": [
              "           date       state  fips  cases  deaths\n",
              "292  2020-03-04  New Jersey    34      1       0\n",
              "312  2020-03-05  New Jersey    34      2       0\n",
              "337  2020-03-06  New Jersey    34      4       0\n",
              "368  2020-03-07  New Jersey    34      4       0\n",
              "403  2020-03-08  New Jersey    34      6       0"
            ]
          },
          "metadata": {
            "tags": []
          },
          "execution_count": 62
        }
      ]
    },
    {
      "cell_type": "code",
      "metadata": {
        "colab": {
          "base_uri": "https://localhost:8080/"
        },
        "id": "VaAa_3zIFlcs",
        "outputId": "024d916a-52df-4135-b9ae-5a7166fb98ea"
      },
      "source": [
        "nj_data.shape"
      ],
      "execution_count": 63,
      "outputs": [
        {
          "output_type": "execute_result",
          "data": {
            "text/plain": [
              "(315, 5)"
            ]
          },
          "metadata": {
            "tags": []
          },
          "execution_count": 63
        }
      ]
    },
    {
      "cell_type": "code",
      "metadata": {
        "colab": {
          "base_uri": "https://localhost:8080/",
          "height": 197
        },
        "id": "-ST6QHXvFqKs",
        "outputId": "4329d189-c77f-486f-a076-f01df330eb55"
      },
      "source": [
        "nj_data.tail()"
      ],
      "execution_count": 64,
      "outputs": [
        {
          "output_type": "execute_result",
          "data": {
            "text/html": [
              "<div>\n",
              "<style scoped>\n",
              "    .dataframe tbody tr th:only-of-type {\n",
              "        vertical-align: middle;\n",
              "    }\n",
              "\n",
              "    .dataframe tbody tr th {\n",
              "        vertical-align: top;\n",
              "    }\n",
              "\n",
              "    .dataframe thead th {\n",
              "        text-align: right;\n",
              "    }\n",
              "</style>\n",
              "<table border=\"1\" class=\"dataframe\">\n",
              "  <thead>\n",
              "    <tr style=\"text-align: right;\">\n",
              "      <th></th>\n",
              "      <th>date</th>\n",
              "      <th>state</th>\n",
              "      <th>fips</th>\n",
              "      <th>cases</th>\n",
              "      <th>deaths</th>\n",
              "    </tr>\n",
              "  </thead>\n",
              "  <tbody>\n",
              "    <tr>\n",
              "      <th>17150</th>\n",
              "      <td>2021-01-08</td>\n",
              "      <td>New Jersey</td>\n",
              "      <td>34</td>\n",
              "      <td>571771</td>\n",
              "      <td>19756</td>\n",
              "    </tr>\n",
              "    <tr>\n",
              "      <th>17205</th>\n",
              "      <td>2021-01-09</td>\n",
              "      <td>New Jersey</td>\n",
              "      <td>34</td>\n",
              "      <td>579182</td>\n",
              "      <td>19854</td>\n",
              "    </tr>\n",
              "    <tr>\n",
              "      <th>17260</th>\n",
              "      <td>2021-01-10</td>\n",
              "      <td>New Jersey</td>\n",
              "      <td>34</td>\n",
              "      <td>584828</td>\n",
              "      <td>19886</td>\n",
              "    </tr>\n",
              "    <tr>\n",
              "      <th>17315</th>\n",
              "      <td>2021-01-11</td>\n",
              "      <td>New Jersey</td>\n",
              "      <td>34</td>\n",
              "      <td>590165</td>\n",
              "      <td>19932</td>\n",
              "    </tr>\n",
              "    <tr>\n",
              "      <th>17370</th>\n",
              "      <td>2021-01-12</td>\n",
              "      <td>New Jersey</td>\n",
              "      <td>34</td>\n",
              "      <td>594751</td>\n",
              "      <td>20039</td>\n",
              "    </tr>\n",
              "  </tbody>\n",
              "</table>\n",
              "</div>"
            ],
            "text/plain": [
              "             date       state  fips   cases  deaths\n",
              "17150  2021-01-08  New Jersey    34  571771   19756\n",
              "17205  2021-01-09  New Jersey    34  579182   19854\n",
              "17260  2021-01-10  New Jersey    34  584828   19886\n",
              "17315  2021-01-11  New Jersey    34  590165   19932\n",
              "17370  2021-01-12  New Jersey    34  594751   20039"
            ]
          },
          "metadata": {
            "tags": []
          },
          "execution_count": 64
        }
      ]
    },
    {
      "cell_type": "code",
      "metadata": {
        "colab": {
          "base_uri": "https://localhost:8080/",
          "height": 197
        },
        "id": "VRCDLYrgGZLQ",
        "outputId": "c3902e87-c187-4282-b196-08c812d49ee4"
      },
      "source": [
        "#first death in New Jersey\n",
        "firstNJDeath = nj_data[nj_data['deaths'] != 0]\n",
        "firstNJDeath.head()"
      ],
      "execution_count": 65,
      "outputs": [
        {
          "output_type": "execute_result",
          "data": {
            "text/html": [
              "<div>\n",
              "<style scoped>\n",
              "    .dataframe tbody tr th:only-of-type {\n",
              "        vertical-align: middle;\n",
              "    }\n",
              "\n",
              "    .dataframe tbody tr th {\n",
              "        vertical-align: top;\n",
              "    }\n",
              "\n",
              "    .dataframe thead th {\n",
              "        text-align: right;\n",
              "    }\n",
              "</style>\n",
              "<table border=\"1\" class=\"dataframe\">\n",
              "  <thead>\n",
              "    <tr style=\"text-align: right;\">\n",
              "      <th></th>\n",
              "      <th>date</th>\n",
              "      <th>state</th>\n",
              "      <th>fips</th>\n",
              "      <th>cases</th>\n",
              "      <th>deaths</th>\n",
              "    </tr>\n",
              "  </thead>\n",
              "  <tbody>\n",
              "    <tr>\n",
              "      <th>477</th>\n",
              "      <td>2020-03-10</td>\n",
              "      <td>New Jersey</td>\n",
              "      <td>34</td>\n",
              "      <td>15</td>\n",
              "      <td>1</td>\n",
              "    </tr>\n",
              "    <tr>\n",
              "      <th>519</th>\n",
              "      <td>2020-03-11</td>\n",
              "      <td>New Jersey</td>\n",
              "      <td>34</td>\n",
              "      <td>23</td>\n",
              "      <td>1</td>\n",
              "    </tr>\n",
              "    <tr>\n",
              "      <th>566</th>\n",
              "      <td>2020-03-12</td>\n",
              "      <td>New Jersey</td>\n",
              "      <td>34</td>\n",
              "      <td>29</td>\n",
              "      <td>1</td>\n",
              "    </tr>\n",
              "    <tr>\n",
              "      <th>616</th>\n",
              "      <td>2020-03-13</td>\n",
              "      <td>New Jersey</td>\n",
              "      <td>34</td>\n",
              "      <td>50</td>\n",
              "      <td>1</td>\n",
              "    </tr>\n",
              "    <tr>\n",
              "      <th>667</th>\n",
              "      <td>2020-03-14</td>\n",
              "      <td>New Jersey</td>\n",
              "      <td>34</td>\n",
              "      <td>75</td>\n",
              "      <td>2</td>\n",
              "    </tr>\n",
              "  </tbody>\n",
              "</table>\n",
              "</div>"
            ],
            "text/plain": [
              "           date       state  fips  cases  deaths\n",
              "477  2020-03-10  New Jersey    34     15       1\n",
              "519  2020-03-11  New Jersey    34     23       1\n",
              "566  2020-03-12  New Jersey    34     29       1\n",
              "616  2020-03-13  New Jersey    34     50       1\n",
              "667  2020-03-14  New Jersey    34     75       2"
            ]
          },
          "metadata": {
            "tags": []
          },
          "execution_count": 65
        }
      ]
    },
    {
      "cell_type": "code",
      "metadata": {
        "colab": {
          "base_uri": "https://localhost:8080/"
        },
        "id": "vlsGR3zLG-BZ",
        "outputId": "3671fc15-d741-4419-a818-2d45a8354640"
      },
      "source": [
        "#total number of cases \n",
        "nj_data['cases'].max()"
      ],
      "execution_count": 66,
      "outputs": [
        {
          "output_type": "execute_result",
          "data": {
            "text/plain": [
              "594751"
            ]
          },
          "metadata": {
            "tags": []
          },
          "execution_count": 66
        }
      ]
    },
    {
      "cell_type": "code",
      "metadata": {
        "id": "7xh3kiu6HEFg"
      },
      "source": [
        "#new cases for NJ\n",
        "newCases = []\n",
        "previousCase = 0\n",
        "for index, row in nj_data.iterrows():\n",
        "  currentCase = row['cases']\n",
        "  newCaseCount = currentCase - previousCase\n",
        "  previousCase = currentCase\n",
        "  newCases.append(newCaseCount)\n",
        "  #print(newCaseCount)"
      ],
      "execution_count": 67,
      "outputs": []
    },
    {
      "cell_type": "code",
      "metadata": {
        "colab": {
          "base_uri": "https://localhost:8080/"
        },
        "id": "5iPMgAPYICyP",
        "outputId": "80562081-639e-4ad3-e768-331dbfbdbfc2"
      },
      "source": [
        "nj_data['newCases'] = newCases"
      ],
      "execution_count": 68,
      "outputs": [
        {
          "output_type": "stream",
          "text": [
            "/usr/local/lib/python3.6/dist-packages/ipykernel_launcher.py:1: SettingWithCopyWarning: \n",
            "A value is trying to be set on a copy of a slice from a DataFrame.\n",
            "Try using .loc[row_indexer,col_indexer] = value instead\n",
            "\n",
            "See the caveats in the documentation: https://pandas.pydata.org/pandas-docs/stable/user_guide/indexing.html#returning-a-view-versus-a-copy\n",
            "  \"\"\"Entry point for launching an IPython kernel.\n"
          ],
          "name": "stderr"
        }
      ]
    },
    {
      "cell_type": "code",
      "metadata": {
        "colab": {
          "base_uri": "https://localhost:8080/",
          "height": 347
        },
        "id": "PO3VSyuoIWtm",
        "outputId": "bdce1a01-3861-4bd2-8999-a2100b8b67cf"
      },
      "source": [
        "nj_data.head(10)"
      ],
      "execution_count": 69,
      "outputs": [
        {
          "output_type": "execute_result",
          "data": {
            "text/html": [
              "<div>\n",
              "<style scoped>\n",
              "    .dataframe tbody tr th:only-of-type {\n",
              "        vertical-align: middle;\n",
              "    }\n",
              "\n",
              "    .dataframe tbody tr th {\n",
              "        vertical-align: top;\n",
              "    }\n",
              "\n",
              "    .dataframe thead th {\n",
              "        text-align: right;\n",
              "    }\n",
              "</style>\n",
              "<table border=\"1\" class=\"dataframe\">\n",
              "  <thead>\n",
              "    <tr style=\"text-align: right;\">\n",
              "      <th></th>\n",
              "      <th>date</th>\n",
              "      <th>state</th>\n",
              "      <th>fips</th>\n",
              "      <th>cases</th>\n",
              "      <th>deaths</th>\n",
              "      <th>newCases</th>\n",
              "    </tr>\n",
              "  </thead>\n",
              "  <tbody>\n",
              "    <tr>\n",
              "      <th>292</th>\n",
              "      <td>2020-03-04</td>\n",
              "      <td>New Jersey</td>\n",
              "      <td>34</td>\n",
              "      <td>1</td>\n",
              "      <td>0</td>\n",
              "      <td>1</td>\n",
              "    </tr>\n",
              "    <tr>\n",
              "      <th>312</th>\n",
              "      <td>2020-03-05</td>\n",
              "      <td>New Jersey</td>\n",
              "      <td>34</td>\n",
              "      <td>2</td>\n",
              "      <td>0</td>\n",
              "      <td>1</td>\n",
              "    </tr>\n",
              "    <tr>\n",
              "      <th>337</th>\n",
              "      <td>2020-03-06</td>\n",
              "      <td>New Jersey</td>\n",
              "      <td>34</td>\n",
              "      <td>4</td>\n",
              "      <td>0</td>\n",
              "      <td>2</td>\n",
              "    </tr>\n",
              "    <tr>\n",
              "      <th>368</th>\n",
              "      <td>2020-03-07</td>\n",
              "      <td>New Jersey</td>\n",
              "      <td>34</td>\n",
              "      <td>4</td>\n",
              "      <td>0</td>\n",
              "      <td>0</td>\n",
              "    </tr>\n",
              "    <tr>\n",
              "      <th>403</th>\n",
              "      <td>2020-03-08</td>\n",
              "      <td>New Jersey</td>\n",
              "      <td>34</td>\n",
              "      <td>6</td>\n",
              "      <td>0</td>\n",
              "      <td>2</td>\n",
              "    </tr>\n",
              "    <tr>\n",
              "      <th>439</th>\n",
              "      <td>2020-03-09</td>\n",
              "      <td>New Jersey</td>\n",
              "      <td>34</td>\n",
              "      <td>11</td>\n",
              "      <td>0</td>\n",
              "      <td>5</td>\n",
              "    </tr>\n",
              "    <tr>\n",
              "      <th>477</th>\n",
              "      <td>2020-03-10</td>\n",
              "      <td>New Jersey</td>\n",
              "      <td>34</td>\n",
              "      <td>15</td>\n",
              "      <td>1</td>\n",
              "      <td>4</td>\n",
              "    </tr>\n",
              "    <tr>\n",
              "      <th>519</th>\n",
              "      <td>2020-03-11</td>\n",
              "      <td>New Jersey</td>\n",
              "      <td>34</td>\n",
              "      <td>23</td>\n",
              "      <td>1</td>\n",
              "      <td>8</td>\n",
              "    </tr>\n",
              "    <tr>\n",
              "      <th>566</th>\n",
              "      <td>2020-03-12</td>\n",
              "      <td>New Jersey</td>\n",
              "      <td>34</td>\n",
              "      <td>29</td>\n",
              "      <td>1</td>\n",
              "      <td>6</td>\n",
              "    </tr>\n",
              "    <tr>\n",
              "      <th>616</th>\n",
              "      <td>2020-03-13</td>\n",
              "      <td>New Jersey</td>\n",
              "      <td>34</td>\n",
              "      <td>50</td>\n",
              "      <td>1</td>\n",
              "      <td>21</td>\n",
              "    </tr>\n",
              "  </tbody>\n",
              "</table>\n",
              "</div>"
            ],
            "text/plain": [
              "           date       state  fips  cases  deaths  newCases\n",
              "292  2020-03-04  New Jersey    34      1       0         1\n",
              "312  2020-03-05  New Jersey    34      2       0         1\n",
              "337  2020-03-06  New Jersey    34      4       0         2\n",
              "368  2020-03-07  New Jersey    34      4       0         0\n",
              "403  2020-03-08  New Jersey    34      6       0         2\n",
              "439  2020-03-09  New Jersey    34     11       0         5\n",
              "477  2020-03-10  New Jersey    34     15       1         4\n",
              "519  2020-03-11  New Jersey    34     23       1         8\n",
              "566  2020-03-12  New Jersey    34     29       1         6\n",
              "616  2020-03-13  New Jersey    34     50       1        21"
            ]
          },
          "metadata": {
            "tags": []
          },
          "execution_count": 69
        }
      ]
    },
    {
      "cell_type": "code",
      "metadata": {
        "colab": {
          "base_uri": "https://localhost:8080/"
        },
        "id": "w5bvXIlWIdMV",
        "outputId": "0b519cb6-b2a8-432c-e96a-2113598d560b"
      },
      "source": [
        "nj_data['newCases'].sum()"
      ],
      "execution_count": 70,
      "outputs": [
        {
          "output_type": "execute_result",
          "data": {
            "text/plain": [
              "594751"
            ]
          },
          "metadata": {
            "tags": []
          },
          "execution_count": 70
        }
      ]
    },
    {
      "cell_type": "code",
      "metadata": {
        "id": "9wMRPWrMIjqf"
      },
      "source": [
        "njCases = nj_data['cases']\n",
        "njDeaths = nj_data['deaths']\n",
        "njDates = nj_data['date']\n",
        "njNewCases = nj_data['newCases']"
      ],
      "execution_count": 71,
      "outputs": []
    },
    {
      "cell_type": "code",
      "metadata": {
        "colab": {
          "base_uri": "https://localhost:8080/"
        },
        "id": "SRW3Y7KLJBEb",
        "outputId": "334cee97-d978-4522-c1b5-0c614e7b334b"
      },
      "source": [
        "type(njNewCases)"
      ],
      "execution_count": 72,
      "outputs": [
        {
          "output_type": "execute_result",
          "data": {
            "text/plain": [
              "pandas.core.series.Series"
            ]
          },
          "metadata": {
            "tags": []
          },
          "execution_count": 72
        }
      ]
    },
    {
      "cell_type": "code",
      "metadata": {
        "colab": {
          "base_uri": "https://localhost:8080/",
          "height": 304
        },
        "id": "e5-JT3QbJEhx",
        "outputId": "d235654d-d36c-4b11-9e1d-09e4273487e9"
      },
      "source": [
        "nj_data.plot(kind = 'bar')"
      ],
      "execution_count": 73,
      "outputs": [
        {
          "output_type": "execute_result",
          "data": {
            "text/plain": [
              "<matplotlib.axes._subplots.AxesSubplot at 0x7f3669c0f160>"
            ]
          },
          "metadata": {
            "tags": []
          },
          "execution_count": 73
        },
        {
          "output_type": "display_data",
          "data": {
            "image/png": "[encoded data removed]",
            "text/plain": [
              "<Figure size 432x288 with 1 Axes>"
            ]
          },
          "metadata": {
            "tags": [],
            "needs_background": "light"
          }
        }
      ]
    },
    {
      "cell_type": "code",
      "metadata": {
        "colab": {
          "base_uri": "https://localhost:8080/",
          "height": 475
        },
        "id": "zBloHw3rJV5T",
        "outputId": "31a4c465-eb16-4974-fc3d-93e13266f832"
      },
      "source": [
        "plt.figure(figsize = (15, 7))\n",
        "plt.bar(x = njDates, height = njNewCases, color = 'blue')\n",
        "plt.xticks(rotation = 90)\n",
        "plt.show()"
      ],
      "execution_count": 74,
      "outputs": [
        {
          "output_type": "display_data",
          "data": {
            "image/png": "[encoded data removed]",
            "text/plain": [
              "<Figure size 1080x504 with 1 Axes>"
            ]
          },
          "metadata": {
            "tags": [],
            "needs_background": "light"
          }
        }
      ]
    },
    {
      "cell_type": "markdown",
      "metadata": {
        "id": "GwO8zAFAJrfS"
      },
      "source": [
        "# Task 4: Understand NJ covid19 data in the last 30 days "
      ]
    },
    {
      "cell_type": "code",
      "metadata": {
        "id": "KzrPckpvJpxe"
      },
      "source": [
        "njCases30 = nj_data['cases'][-31 : -1]\n",
        "njDeaths30 = nj_data['deaths'][-31 : -1]\n",
        "njDates30 = nj_data['date'][-31 : -1]\n",
        "njNewCases30 = nj_data['newCases'][-31 : -1]"
      ],
      "execution_count": 75,
      "outputs": []
    },
    {
      "cell_type": "code",
      "metadata": {
        "id": "Z2pW_VvzFQhI"
      },
      "source": [
        "#njdates30"
      ],
      "execution_count": 76,
      "outputs": []
    },
    {
      "cell_type": "code",
      "metadata": {
        "colab": {
          "base_uri": "https://localhost:8080/",
          "height": 475
        },
        "id": "bYIiKNmwFUCz",
        "outputId": "1e1ba535-8b22-4d54-a60d-981893c3221a"
      },
      "source": [
        "plt.figure(figsize = (15, 7))\n",
        "plt.bar(x = njDates30, height = njNewCases30, color = 'blue')\n",
        "plt.xticks(rotation = 90)\n",
        "plt.show()"
      ],
      "execution_count": 77,
      "outputs": [
        {
          "output_type": "display_data",
          "data": {
            "image/png": "[encoded data removed]",
            "text/plain": [
              "<Figure size 1080x504 with 1 Axes>"
            ]
          },
          "metadata": {
            "tags": [],
            "needs_background": "light"
          }
        }
      ]
    },
    {
      "cell_type": "code",
      "metadata": {
        "colab": {
          "base_uri": "https://localhost:8080/",
          "height": 475
        },
        "id": "Paw9--cnOGvb",
        "outputId": "3e5cc4a5-3a27-4b9c-8767-1a2020121f86"
      },
      "source": [
        "plt.figure(figsize = (15, 7))\n",
        "plt.bar(x = njDates30, height = njDeaths30, color = 'red')\n",
        "plt.xticks(rotation = 90)\n",
        "plt.show()"
      ],
      "execution_count": 78,
      "outputs": [
        {
          "output_type": "display_data",
          "data": {
            "image/png": "[encoded data removed]",
            "text/plain": [
              "<Figure size 1080x504 with 1 Axes>"
            ]
          },
          "metadata": {
            "tags": [],
            "needs_background": "light"
          }
        }
      ]
    },
    {
      "cell_type": "markdown",
      "metadata": {
        "id": "WTAu7-mJOSOU"
      },
      "source": [
        "# Comparing COVID19 data with different states"
      ]
    },
    {
      "cell_type": "code",
      "metadata": {
        "id": "0exl2_nmORoW"
      },
      "source": [
        "states = ['New York', 'California', 'Washington', 'Florida', 'New Jersey']"
      ],
      "execution_count": 79,
      "outputs": []
    },
    {
      "cell_type": "code",
      "metadata": {
        "colab": {
          "base_uri": "https://localhost:8080/",
          "height": 486
        },
        "id": "r1hOf-yNO6dP",
        "outputId": "113a61aa-95f0-45ae-c16a-dd781afc7474"
      },
      "source": [
        "plt.figure(figsize = (15, 7))\n",
        "for state in states:\n",
        "  dataState = data[(data['state'] == state) & (data['date'] >= '2020-12-25')]\n",
        "  plt.plot(dataState['date'], dataState['cases'], linewidth = 2)\n",
        "  plt.xticks(rotation = 90)\n",
        "plt.legend(states)\n",
        "plt.show()\n",
        "                    "
      ],
      "execution_count": 80,
      "outputs": [
        {
          "output_type": "display_data",
          "data": {
            "image/png": "[encoded data removed]",
            "text/plain": [
              "<Figure size 1080x504 with 1 Axes>"
            ]
          },
          "metadata": {
            "tags": [],
            "needs_background": "light"
          }
        }
      ]
    },
    {
      "cell_type": "markdown",
      "metadata": {
        "id": "p1KACLfNPzmL"
      },
      "source": [
        "# Conclusion\n",
        "\n",
        "Below are the conclusions:\n",
        "1.   Number of cases has been growing on a steady pace in New Jersey.  \n",
        "2. It has over 594751 cases.\n",
        "3. On January 4, 2021, number of new cases spiked over 40,000.\n",
        "4. Although New York and New Jersey are closed neighboring states, New York surpasses New Jersey new cases by ~210,000."
      ]
    }
  ]
}